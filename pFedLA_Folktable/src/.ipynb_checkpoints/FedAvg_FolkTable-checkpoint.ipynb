{
 "cells": [
  {
   "cell_type": "code",
   "execution_count": 1,
   "id": "0f3f2206",
   "metadata": {},
   "outputs": [],
   "source": [
    "# pip install torch"
   ]
  },
  {
   "cell_type": "code",
   "execution_count": null,
   "id": "ef46b949",
   "metadata": {},
   "outputs": [],
   "source": []
  },
  {
   "cell_type": "code",
   "execution_count": 1,
   "id": "a50eedd3",
   "metadata": {},
   "outputs": [],
   "source": [
    "import pandas as pd\n",
    "import numpy as np\n",
    "import copy\n",
    "from argparse import Namespace\n",
    "from copy import deepcopy\n",
    "import torch.nn as nn\n",
    "from sklearn import preprocessing\n",
    "import torch.optim as optim\n",
    "from sklearn.preprocessing import LabelEncoder\n",
    "from folktables import ACSDataSource, ACSEmployment,ACSIncome\n",
    "import matplotlib.pyplot as plt\n",
    "import shutil\n",
    "import torch.nn.functional as F\n",
    "import tqdm\n",
    "from sklearn.model_selection import StratifiedKFold, train_test_split\n",
    "from sklearn.preprocessing import LabelEncoder\n",
    "import torch\n",
    "from torchvision import models\n",
    "from torchsummary import summary\n",
    "from torch.utils.data import Dataset, DataLoader\n",
    "from sklearn.metrics import accuracy_score\n",
    "from typing import Dict, List, OrderedDict, Tuple\n",
    "import pickle\n",
    "from collections import OrderedDict\n",
    "from typing import OrderedDict\n",
    "from typing import Dict, List, OrderedDict, Tuple, Union\n",
    "from torch.utils.data import DataLoader, Subset, random_split\n",
    "from collections import OrderedDict\n",
    "import os\n",
    "import random\n",
    "from sklearn.metrics import precision_score, recall_score\n",
    "\n",
    "from path import Path\n",
    "from rich.console import Console\n",
    "from rich.progress import track\n",
    "from collections import OrderedDict\n",
    "import os\n",
    "import torch\n",
    "import random\n",
    "from collections import OrderedDict\n",
    "from typing import List, OrderedDict, Tuple\n"
   ]
  },
  {
   "cell_type": "code",
   "execution_count": null,
   "id": "5fa7fcf2",
   "metadata": {},
   "outputs": [],
   "source": []
  },
  {
   "cell_type": "code",
   "execution_count": 2,
   "id": "acd50dca",
   "metadata": {},
   "outputs": [
    {
     "name": "stdout",
     "output_type": "stream",
     "text": [
      "Deleted: D:/Download/pythonProject/HiWi/pFedLA_Folktable/temp/my_model/epoch.pkl\n",
      "Deleted: D:/Download/pythonProject/HiWi/pFedLA_Folktable/temp/my_model/global_model.pt\n",
      "All files removed successfully.\n"
     ]
    }
   ],
   "source": [
    "import os\n",
    "import shutil\n",
    "\n",
    "old_model_path = \"D:/Download/pythonProject/HiWi/pFedLA_Folktable/temp/my_model/\"\n",
    "client_models_path = \"D:/Download/pythonProject/HiWi/pFedLA_Folktable/src/pkl_files/hn/\"\n",
    "\n",
    "\n",
    "for file in os.listdir(old_model_path):\n",
    "    file_path = os.path.join(old_model_path, file)\n",
    "    os.remove(file_path)\n",
    "    print(f\"Deleted: {file_path}\")\n",
    "    \n",
    "for file in os.listdir(client_models_path):\n",
    "    file_path = os.path.join(client_models_path, file)\n",
    "    os.remove(file_path)\n",
    "    print(f\"Deleted: {file_path}\")\n",
    "        \n",
    "\n",
    "\n",
    "print(\"All files removed successfully.\")\n"
   ]
  },
  {
   "cell_type": "code",
   "execution_count": null,
   "id": "1dc33154",
   "metadata": {},
   "outputs": [],
   "source": []
  },
  {
   "cell_type": "code",
   "execution_count": 3,
   "id": "ad00a80f",
   "metadata": {},
   "outputs": [],
   "source": [
    "\n",
    "def fix_random_seed(seed: int) -> None:\n",
    "    \n",
    "#     print(\"fix_random_seed Chirag\")\n",
    "    \n",
    "    torch.cuda.empty_cache()\n",
    "    torch.random.manual_seed(seed)\n",
    "    torch.cuda.manual_seed(seed)\n",
    "    random.seed(seed)\n",
    "    np.random.seed(seed)\n",
    "    torch.backends.cudnn.deterministic = True\n",
    "    torch.backends.cudnn.benchmark = True\n",
    "\n",
    "    \n",
    "def clone_parameters(\n",
    "    src: Union[OrderedDict[str, torch.Tensor], torch.nn.Module]\n",
    ") -> OrderedDict[str, torch.Tensor]:\n",
    "    \n",
    "#     print(\"clone_parameters Chirag\")\n",
    "    \n",
    "    if isinstance(src, OrderedDict):\n",
    "        return OrderedDict(\n",
    "            {\n",
    "                name: param.clone().detach().requires_grad_(param.requires_grad)\n",
    "                for name, param in src.items()\n",
    "            }\n",
    "        )\n",
    "    if isinstance(src, torch.nn.Module):\n",
    "        return OrderedDict(\n",
    "            {\n",
    "                name: param.clone().detach().requires_grad_(param.requires_grad)\n",
    "                for name, param in src.state_dict(keep_vars=True).items()\n",
    "            }\n",
    "        )\n",
    "\n",
    "    \n",
    "    \n",
    "def get_dataloader(\n",
    "    dataset: str,\n",
    "    client_id: int,\n",
    "    batch_size=10,\n",
    "    valset_ratio=0.2,\n",
    "    testset_ratio=0.1,\n",
    "    only_dataset=False,\n",
    ") -> Dict[str, Union[DataLoader, Subset]]:\n",
    "    \n",
    "    print(\"get_dataloader Chirag \")\n",
    "    \n",
    "    args_dict = json.load(open(DATASETS_DIR / \"args.json\", \"r\"))\n",
    "    client_num_in_each_pickles = args_dict[\"client_num_in_each_pickles\"]\n",
    "    pickles_dir = DATASETS_DIR / dataset / \"pickles\"\n",
    "    if os.path.isdir(pickles_dir) is False:\n",
    "        raise RuntimeError(\"Please preprocess and create pickles first.\")\n",
    "\n",
    "    pickle_path = (\n",
    "        pickles_dir / f\"{math.floor(client_id / client_num_in_each_pickles)}.pkl\"\n",
    "    )\n",
    "    with open(pickle_path, \"rb\") as f:\n",
    "        subset = pickle.load(f)\n",
    "    client_dataset = subset[client_id % client_num_in_each_pickles]\n",
    "    val_samples_num = int(len(client_dataset) * valset_ratio)\n",
    "    test_samples_num = int(len(client_dataset) * testset_ratio)\n",
    "    train_samples_num = len(client_dataset) - val_samples_num - test_samples_num\n",
    "    trainset, valset, testset = random_split(\n",
    "        client_dataset, [train_samples_num, val_samples_num, test_samples_num]\n",
    "    )\n",
    "    if only_dataset:\n",
    "        return {\"train\": trainset, \"val\": valset, \"test\": testset}\n",
    "    trainloader = DataLoader(trainset, batch_size, shuffle=True)\n",
    "    valloader = DataLoader(valset, batch_size)\n",
    "    testloader = DataLoader(testset, batch_size)\n",
    "    \n",
    "    return {\"train\": trainloader, \"val\": valloader, \"test\": testloader}\n"
   ]
  },
  {
   "cell_type": "code",
   "execution_count": null,
   "id": "f5d42ef3",
   "metadata": {},
   "outputs": [],
   "source": []
  },
  {
   "cell_type": "code",
   "execution_count": 4,
   "id": "e905b8d0",
   "metadata": {},
   "outputs": [],
   "source": [
    "\n",
    "class ClientBase:\n",
    "    def __init__(\n",
    "        self,\n",
    "        backbone: torch.nn.Module,\n",
    "        dataset: str,\n",
    "        batch_size: int,\n",
    "        valset_ratio: float,\n",
    "        testset_ratio: float,\n",
    "        local_epochs: int,\n",
    "        local_lr: float,\n",
    "        logger: Console,\n",
    "        gpu: int,\n",
    "    ):\n",
    "        self.device = torch.device(\n",
    "            \"cuda\" if gpu and torch.cuda.is_available() else \"cpu\"\n",
    "        )\n",
    "        self.client_id: int = None\n",
    "        self.valset: DataLoader = None\n",
    "        self.trainset: DataLoader = None\n",
    "        self.testset: DataLoader = None\n",
    "        \n",
    "        \n",
    "        # need to change\n",
    "#         self.model: torch.nn.Module = init_model\n",
    "        self.model: torch.nn.Module = deepcopy(backbone)\n",
    "        \n",
    "#         print(\"model client\", self.model.parameters())\n",
    "        \n",
    "#         self.optimizer: torch.optim.Optimizer = torch.optim.SGD(\n",
    "#             self.model.parameters(), lr=local_lr\n",
    "#         )\n",
    "            \n",
    "        self.optimizer: torch.optim.Optimizer = torch.optim.Adam(\n",
    "            self.model.parameters(), lr=local_lr\n",
    "        )\n",
    "          \n",
    "        self.batch_size = batch_size\n",
    "        self.valset_ratio = valset_ratio\n",
    "        self.testset_ratio = testset_ratio\n",
    "        self.local_epochs = local_epochs\n",
    "        self.local_lr = local_lr\n",
    "        self.criterion = torch.nn.BCELoss()\n",
    "        self.logger = logger\n",
    "        \n",
    "        print(\"Base Client constructor\")\n",
    "\n",
    "#     @torch.no_grad()\n",
    "#     def evaluate(self):\n",
    "#         self.model.eval()\n",
    "#         size = 0\n",
    "#         loss = 0\n",
    "#         correct = 0\n",
    "#         for x, y in self.testset:\n",
    "#             x, y = x.to(self.device), y.to(self.device)\n",
    "            \n",
    "#             # check this fun\n",
    "            \n",
    "#             logits = self.model(x)\n",
    "                 \n",
    "#             loss += self.criterion(logits, y)\n",
    "\n",
    "#             pred = torch.softmax(logits, -1).argmax(-1)\n",
    "\n",
    "#             correct += (pred == y).int().sum()\n",
    "\n",
    "#             size += y.size(-1)\n",
    "        \n",
    "#         print(\"correct: %f\\n\" % (correct))\n",
    "#         print(\"loss: %f\\n\" % (loss))\n",
    "#         print(\"size: %f\\n\" % (size))\n",
    "        \n",
    "#         acc = correct / size * 100.0\n",
    "        \n",
    "#         print(\"Acc: %f\\n\" % (acc))\n",
    "        \n",
    "#         loss = loss / len(self.testset)\n",
    "#         return loss, acc\n",
    "    \n",
    "    \n",
    "    @torch.no_grad()\n",
    "    def evaluate(self):\n",
    "        self.model.eval()\n",
    "        size = 0\n",
    "        loss = 0\n",
    "        correct = 0\n",
    "        total = 0\n",
    "        predicted_labels = []\n",
    "        true_labels = []\n",
    "        \n",
    "        for inputs, targets in self.testset:\n",
    "            \n",
    "            inputs, targets = inputs.to(self.device), targets.to(self.device)\n",
    "            \n",
    "            outputs = self.model(inputs)\n",
    "            loss += self.criterion(outputs, targets)\n",
    "            predicted = outputs > 0.5\n",
    "            \n",
    "#             print(\"predicted\",predicted)\n",
    "            predicted_labels.extend(predicted.cpu().numpy())\n",
    "            true_labels.extend(targets.cpu().numpy())\n",
    "            \n",
    "            total += targets.size(0)\n",
    "            correct += (predicted == targets).sum().item()\n",
    "            \n",
    "        \n",
    "        loss = loss / len(self.testset)\n",
    "        acc = correct / total\n",
    "        \n",
    "        # print(\"loss: %f\\n\" % (loss))\n",
    "        \n",
    "        print(f\"Testing Accuracy: {acc:.2%}\")\n",
    "#         print(predicted_labels,\" :: \",true_labels)\n",
    "        precision = precision_score(true_labels, predicted_labels,zero_division=0.0)\n",
    "        \n",
    "        recall = recall_score(true_labels, predicted_labels)\n",
    "\n",
    "        print(f\"Precision: {precision:.2%}\")\n",
    "        print(f\"Recall: {recall:.2%}\")\n",
    "        \n",
    "        print(\"\\n\\n\")\n",
    "\n",
    "        \n",
    "        return loss, acc\n",
    "    \n",
    "\n",
    "    def train(self):\n",
    "        print(\"Base Client train called\")\n",
    "        pass\n",
    "\n",
    "    def _train(self):\n",
    "        print(\"Base Client __train called\")\n",
    "        pass\n",
    "\n",
    "    def get_client_local_dataset(self):\n",
    "        \n",
    "#         datasets = get_dataloader(\n",
    "#             self.dataset,\n",
    "#             self.client_id,\n",
    "#             self.batch_size,\n",
    "#             self.valset_ratio,\n",
    "#             self.testset_ratio,\n",
    "#         )\n",
    "\n",
    "        print(\"self.client_id:: \",self.client_id)\n",
    "                                \n",
    "#         with open(\"..\\\\train_1_client.pkl\", \"rb\") as f:\n",
    "#             self.trainset = pickle.load(f)\n",
    "            \n",
    "        with open(\"..\\\\clients_training.pkl\", \"rb\") as f:\n",
    "            self.trainset = pickle.load(f)\n",
    "            \n",
    "        with open(\"..\\\\clients_validation.pkl\", \"rb\") as f:\n",
    "            self.valset = pickle.load(f)\n",
    "\n",
    "#         with open(\"..\\\\valid_1_client.pkl\", \"rb\") as f:\n",
    "#             self.valset  = pickle.load(f)\n",
    "        \n",
    "        with open(\"..\\\\clients_testing.pkl\", \"rb\") as f:\n",
    "            self.testset  = pickle.load(f)\n",
    "        \n",
    "        self.trainset = self.trainset[self.client_id]\n",
    "        self.valset = self.valset[self.client_id]       \n",
    "        self.testset = self.testset[self.client_id]\n",
    "\n",
    "                \n",
    "        print(\"self.client_id :: len(self.trainset)\",self.client_id,\"::\",len(self.trainset))\n",
    "        \n",
    "#         self.trainset = datasets[\"train\"]\n",
    "#         self.valset = datasets[\"val\"]        \n",
    "#         self.testset = datasets[\"test\"]\n",
    "\n",
    "    def _log_while_training(self, evaluate=True, verbose=False):\n",
    "        def _log_and_train(*args, **kwargs):\n",
    "            loss_before = 0\n",
    "            loss_after = 0\n",
    "            acc_before = 0\n",
    "            acc_after = 0\n",
    "            if evaluate:\n",
    "                loss_before, acc_before = self.evaluate()\n",
    "\n",
    "            res = self._train(*args, **kwargs)\n",
    "\n",
    "            if evaluate:\n",
    "                loss_after, acc_after = self.evaluate()\n",
    "            \n",
    "            \n",
    "#             if verbose:\n",
    "#                 self.logger.log(\n",
    "#                     \"client [{}]   [bold red]loss: {:.4f} -> {:.4f}    [bold blue]accuracy: {:.2f}% -> {:.2f}%\".format(\n",
    "#                         self.client_id, loss_before, loss_after, acc_before, acc_after\n",
    "#                     )\n",
    "#                 )\n",
    "\n",
    "            eval_stats = {\n",
    "                \"loss_before\": loss_before,\n",
    "                \"loss_after\": loss_after,\n",
    "                \"acc_before\": acc_before,\n",
    "                \"acc_after\": acc_after,\n",
    "            }\n",
    "            \n",
    "            return res, eval_stats\n",
    "\n",
    "        return _log_and_train\n",
    "\n",
    "    def set_parameters(self, model_params: OrderedDict):\n",
    "\n",
    "        self.model.load_state_dict(model_params, strict=True)\n"
   ]
  },
  {
   "cell_type": "code",
   "execution_count": null,
   "id": "9cde0850",
   "metadata": {},
   "outputs": [],
   "source": []
  },
  {
   "cell_type": "code",
   "execution_count": 5,
   "id": "5055145d",
   "metadata": {},
   "outputs": [],
   "source": [
    "\n",
    "class FedAvgClient(ClientBase):\n",
    "    def __init__(\n",
    "        self,\n",
    "        backbone: torch.nn.Module,\n",
    "        dataset: str,\n",
    "        batch_size: int,\n",
    "        valset_ratio: float,\n",
    "        testset_ratio: float,\n",
    "        local_epochs: int,\n",
    "        local_lr: float,\n",
    "        logger: Console,\n",
    "        gpu: int,\n",
    "    ):\n",
    "        super(FedAvgClient, self).__init__(\n",
    "            backbone,\n",
    "            dataset,\n",
    "            batch_size,\n",
    "            valset_ratio,\n",
    "            testset_ratio,\n",
    "            local_epochs,\n",
    "            local_lr,\n",
    "            logger,\n",
    "            gpu,\n",
    "        )\n",
    "\n",
    "    def train(\n",
    "        self,\n",
    "        client_id: int,\n",
    "        model_params: OrderedDict[str, torch.Tensor],\n",
    "        verbose=True,\n",
    "    ):\n",
    "        self.client_id = client_id\n",
    "        self.set_parameters(model_params)\n",
    "        self.get_client_local_dataset()\n",
    "        self.model.to(self.device)\n",
    "        res, stats = self._log_while_training(evaluate=True, verbose=verbose)()\n",
    "        self.model.cpu()\n",
    "        return res, stats\n",
    "\n",
    "    def _train(self):\n",
    "        self.model.train()\n",
    "        for _ in range(self.local_epochs):\n",
    "            for x, y in self.trainset:\n",
    "                x, y = x.to(self.device), y.to(self.device)\n",
    "                logits = self.model(x)\n",
    "                loss = self.criterion(logits, y)\n",
    "                self.optimizer.zero_grad()\n",
    "                loss.backward()\n",
    "                self.optimizer.step()\n",
    "        return list(self.model.state_dict().values()), len(self.trainset.dataset)\n",
    "\n",
    "    def test(\n",
    "        self, client_id: int, model_params: OrderedDict[str, torch.Tensor],\n",
    "    ):\n",
    "        self.client_id = client_id\n",
    "        self.set_parameters(model_params)\n",
    "        self.get_client_local_dataset()\n",
    "        self.model.to(self.device)\n",
    "        loss, acc = self.evaluate()\n",
    "        self.model.cpu()\n",
    "        stats = {\"loss\": loss, \"acc\": acc}\n",
    "        return stats\n"
   ]
  },
  {
   "cell_type": "code",
   "execution_count": null,
   "id": "f2499dcb",
   "metadata": {},
   "outputs": [],
   "source": []
  },
  {
   "cell_type": "code",
   "execution_count": 6,
   "id": "8cf26c8e",
   "metadata": {},
   "outputs": [],
   "source": [
    "class DeepNet(nn.Module):\n",
    "    def __init__(self):\n",
    "        super().__init__()\n",
    "        # 14 : input shape\n",
    "        self.layer1 = nn.Linear(16, 512)\n",
    "        self.act1 = nn.ReLU()\n",
    "        self.dropout1 = nn.Dropout(p=0.5)\n",
    "        self.layer2 = nn.Linear(512, 256)\n",
    "        self.act2 = nn.ReLU()\n",
    "        self.layer3 = nn.Linear(256, 60)\n",
    "        self.act3 = nn.ReLU()\n",
    "        self.output = nn.Linear(60, 1)\n",
    "        self.sigmoid = nn.Sigmoid()\n",
    "\n",
    "    def forward(self, x):\n",
    "        x = self.act1(self.layer1(x))\n",
    "        x = self.dropout1(x)\n",
    "        x = self.act2(self.layer2(x))\n",
    "        x = self.act3(self.layer3(x))\n",
    "        x = self.sigmoid(self.output(x))\n",
    "        return x"
   ]
  },
  {
   "cell_type": "code",
   "execution_count": null,
   "id": "74126905",
   "metadata": {},
   "outputs": [],
   "source": []
  },
  {
   "cell_type": "code",
   "execution_count": null,
   "id": "ae9b9a40",
   "metadata": {},
   "outputs": [],
   "source": []
  },
  {
   "cell_type": "code",
   "execution_count": 7,
   "id": "e0d78bf6",
   "metadata": {},
   "outputs": [],
   "source": [
    "class ServerBase:\n",
    "    def __init__(self, args: Namespace, algo: str):\n",
    "        self.algo = algo\n",
    "        self.args = args\n",
    "        \n",
    "        # default log file format\n",
    "        self.log_name = \"{}_{}_{}_{}.html\".format(\n",
    "            self.algo,\n",
    "            self.args.dataset,\n",
    "            self.args.global_epochs,\n",
    "            self.args.local_epochs,\n",
    "        )\n",
    "\n",
    "        self.device = torch.device(\"cuda\" if torch.cuda.is_available() else \"cpu\")\n",
    "\n",
    "        fix_random_seed(self.args.seed)\n",
    "        \n",
    "#         self.backbone= (DeepNet)   \n",
    "        \n",
    "        self.backbone = (\n",
    "            CNNWithBatchNorm\n",
    "            if self.args.dataset in [\"cifar10\", \"cifar100\"]\n",
    "            else DeepNet\n",
    "        )\n",
    "        \n",
    "        print(\"self.backbone\",self.backbone)\n",
    "        \n",
    "        self.logger = Console(record=True, log_path=False, log_time=False,)\n",
    "        \n",
    "        self.client_id_indices, self.client_num_in_total = [0,1,2,3,4,5,6,7,8,9], 10                \n",
    "        \n",
    "        self.temp_dir =\"D:/Download/pythonProject/HiWi/pFedLA_Folktable/temp/my_model/\"\n",
    "\n",
    "#         name_of_model = '../../WW_WM_BW.pth'\n",
    "        #  self.temp_dir = TEMP_DIR / self.algo\n",
    "        if not os.path.isdir(self.temp_dir):\n",
    "            os.makedirs(self.temp_dir)\n",
    "            \n",
    "#         _dummy_model = self.backbone(self.args.dataset)\n",
    "        _dummy_model = self.backbone()\n",
    "#         _dummy_model = DeepNet()\n",
    "    \n",
    "#         print(\"_dummy_model:: base\",_dummy_model)\n",
    "        \n",
    "        passed_epoch = 0\n",
    "        self.global_params_dict: OrderedDict[str : torch.Tensor] = None\n",
    "        \n",
    "        if os.listdir(self.temp_dir) != []:\n",
    "            if os.path.exists(os.path.join(self.temp_dir, \"global_model.pt\")):\n",
    "                \n",
    "                self.global_params_dict = torch.load(os.path.join(self.temp_dir, \"global_model.pt\"))\n",
    "                self.logger.log(\"Find existed global model...\")\n",
    "\n",
    "            if os.path.exists(os.path.join(self.temp_dir, \"epoch.pkl\")):  \n",
    "                with open(os.path.join(self.temp_dir, \"epoch.pkl\"), \"rb\") as f:\n",
    "#               \n",
    "                    passed_epoch = pickle.load(f)\n",
    "                self.logger.log(f\"Have run {passed_epoch} epochs already.\",)\n",
    "        else:\n",
    "            self.global_params_dict = OrderedDict(_dummy_model.state_dict())\n",
    "            \n",
    "#         self.global_params_dict = OrderedDict(_dummy_model.state_dict())\n",
    "#         print(\"self.global_params_dict: \",self.global_params_dict)\n",
    "\n",
    "        self.global_epochs = self.args.global_epochs - passed_epoch\n",
    "#         self.global_epochs = self.global_epochs - passed_epoch\n",
    "    \n",
    "        self.logger.log(\"Backbone:\", _dummy_model)\n",
    "\n",
    "        self.trainer: ClientBase = None\n",
    "        self.all_clients_stats = {i: {} for i in self.client_id_indices}\n",
    "           \n",
    "            \n",
    "        print(\"Base Server Called !\")\n",
    "        \n",
    "    def train(self):\n",
    "\n",
    "        print(\"In Base server  train\\n\")\n",
    "        \n",
    "        self.logger.log(\"=\" * 30, \"TRAINING\", \"=\" * 30, style=\"bold green\")\n",
    "        progress_bar = (\n",
    "            track(\n",
    "                range(self.global_epochs),\n",
    "                \"[bold green]Training...\",\n",
    "                console=self.logger,\n",
    "            )\n",
    "            if not self.args.log\n",
    "            else tqdm(range(self.global_epochs), \"Training...\")\n",
    "        )\n",
    "        for E in progress_bar:\n",
    "\n",
    "            if E % self.args.verbose_gap == 0:\n",
    "                self.logger.log(\"=\" * 30, f\"ROUND: {E}\", \"=\" * 30)\n",
    "\n",
    "            selected_clients = random.sample(\n",
    "                self.client_id_indices, self.args.client_num_per_round\n",
    "            )\n",
    "            \n",
    "            updated_params_cache = []\n",
    "            weights_cache = []\n",
    "\n",
    "            for client_id in selected_clients:\n",
    "                \n",
    "                client_local_params = clone_parameters(self.global_params_dict)\n",
    "                                \n",
    "                (updated_params, weight), stats = self.trainer.train(\n",
    "                    client_id=client_id,\n",
    "                    model_params=client_local_params,\n",
    "                    verbose=(E % self.args.verbose_gap) == 0,\n",
    "                )\n",
    "\n",
    "                updated_params_cache.append(updated_params)\n",
    "                weights_cache.append(weight)\n",
    "                self.all_clients_stats[client_id][f\"ROUND: {E}\"] = (\n",
    "                    f\"{stats['loss_before']:.4f} -> {stats['loss_after']:.4f}\",\n",
    "                )\n",
    "\n",
    "            self.aggregate_parameters(updated_params_cache, weights_cache)\n",
    "\n",
    "            if E % self.args.save_period == 0:\n",
    "                torch.save(\n",
    "                    self.global_params_dict, os.path.join(self.temp_dir, \"global_model.pt\"),\n",
    "                )\n",
    "                with open(os.path.join(self.temp_dir, \"epoch.pkl\"), \"wb\") as f:\n",
    "                    pickle.dump(E, f)\n",
    "        self.logger.log(self.all_clients_stats)\n",
    "    \n",
    "    @torch.no_grad()\n",
    "    def aggregate_parameters(self, updated_params_cache, weights_cache):\n",
    "        weight_sum = sum(weights_cache)\n",
    "        weights = torch.tensor(weights_cache, device=self.device) / weight_sum\n",
    "\n",
    "        aggregated_params = []\n",
    "\n",
    "        for params in zip(*updated_params_cache):\n",
    "            aggregated_params.append(\n",
    "                torch.sum(weights * torch.stack(params, dim=-1), dim=-1)\n",
    "            )\n",
    "\n",
    "        self.global_params_dict = OrderedDict(\n",
    "            zip(self.global_params_dict.keys(), aggregated_params)\n",
    "        )\n",
    "\n",
    "                \n",
    "    def test(self) -> None:\n",
    "        self.logger.log(\"=\" * 30, \"TESTING\", \"=\" * 30, style=\"bold blue\")\n",
    "        all_loss = []\n",
    "        all_acc = []\n",
    "        for client_id in track(\n",
    "            self.client_id_indices,\n",
    "            \"[bold blue]Testing...\",\n",
    "            console=self.logger,\n",
    "            disable=self.args.log,\n",
    "        ):\n",
    "            client_local_params = clone_parameters(self.global_params_dict)\n",
    "            stats = self.trainer.test(\n",
    "                client_id=client_id, model_params=client_local_params,\n",
    "            )\n",
    "\n",
    "            self.logger.log(\n",
    "                f\"client [{client_id}]  [red]loss: {stats['loss']:.4f}    [magenta]accuracy: {stats['acc']:.2f}%\"\n",
    "            )\n",
    "            all_loss.append(stats[\"loss\"])\n",
    "            all_acc.append(stats[\"acc\"])\n",
    "\n",
    "        self.logger.log(\"=\" * 20, \"RESULTS\", \"=\" * 20, style=\"bold green\")\n",
    "        self.logger.log(\n",
    "            \"loss: {:.4f}    accuracy: {:.2f}%\".format(\n",
    "                sum(all_loss) / len(all_loss), sum(all_acc) / len(all_acc),\n",
    "            )\n",
    "        )        \n",
    "    \n",
    "    def run(self):\n",
    "        print(\"Base server Run called\")\n",
    "        self.logger.log(\"Arguments:\", dict(self.args._get_kwargs()))\n",
    "        self.train()\n",
    "        self.test()\n",
    "        if self.args.log:\n",
    "            if not os.path.isdir(LOG_DIR):\n",
    "                os.mkdir(LOG_DIR)\n",
    "            self.logger.save_html(LOG_DIR / self.log_name)\n",
    "\n",
    "        # delete all temporary files\n",
    "#         if os.listdir(self.temp_dir) != []:\n",
    "#             os.system(f\"rm -rf {self.temp_dir}\")\n"
   ]
  },
  {
   "cell_type": "code",
   "execution_count": null,
   "id": "610b1470",
   "metadata": {},
   "outputs": [],
   "source": []
  },
  {
   "cell_type": "code",
   "execution_count": 8,
   "id": "133d7f0b",
   "metadata": {},
   "outputs": [],
   "source": [
    "args1 = Namespace(\n",
    "    k=2,\n",
    "    global_epochs=3,\n",
    "    local_epochs=15,\n",
    "    local_lr=0.001,\n",
    "    hn_lr=0.002,\n",
    "    verbose_gap=20,\n",
    "    embedding_dim=200,\n",
    "    hidden_dim=200,\n",
    "    dataset=\"no\",\n",
    "    batch_size=64,\n",
    "    valset_ratio=0.0,\n",
    "    testset_ratio=0.3,\n",
    "    gpu=True,\n",
    "    log=0,\n",
    "    seed=5,\n",
    "    client_num_per_round=2,\n",
    "    save_period=10,\n",
    ")\n"
   ]
  },
  {
   "cell_type": "code",
   "execution_count": null,
   "id": "2ea1329a",
   "metadata": {},
   "outputs": [],
   "source": []
  },
  {
   "cell_type": "code",
   "execution_count": null,
   "id": "a2972ea1",
   "metadata": {},
   "outputs": [],
   "source": []
  },
  {
   "cell_type": "code",
   "execution_count": 9,
   "id": "bb68405d",
   "metadata": {},
   "outputs": [],
   "source": [
    "class FedAvgServer(ServerBase):\n",
    "    def __init__(self):\n",
    "        super(FedAvgServer, self).__init__(args1, \"FedAvg\")\n",
    "\n",
    "        self.trainer = FedAvgClient(\n",
    "            backbone=self.backbone(),\n",
    "            dataset=self.args.dataset,\n",
    "            batch_size=self.args.batch_size,\n",
    "            valset_ratio=self.args.valset_ratio,\n",
    "            testset_ratio=self.args.testset_ratio,\n",
    "            local_epochs=self.args.local_epochs,\n",
    "            local_lr=self.args.local_lr,\n",
    "            logger=self.logger,\n",
    "            gpu=self.args.gpu,\n",
    "        )\n"
   ]
  },
  {
   "cell_type": "code",
   "execution_count": 10,
   "id": "e37d8c12",
   "metadata": {},
   "outputs": [],
   "source": [
    "# FedAvg and FairFed"
   ]
  },
  {
   "cell_type": "code",
   "execution_count": null,
   "id": "e7f0a2bd",
   "metadata": {},
   "outputs": [],
   "source": []
  },
  {
   "cell_type": "code",
   "execution_count": 11,
   "id": "1f732203",
   "metadata": {
    "scrolled": false
   },
   "outputs": [
    {
     "name": "stdout",
     "output_type": "stream",
     "text": [
      "self.backbone <class '__main__.DeepNet'>\n"
     ]
    },
    {
     "data": {
      "text/html": [
       "<pre style=\"white-space:pre;overflow-x:auto;line-height:normal;font-family:Menlo,'DejaVu Sans Mono',consolas,'Courier New',monospace\">Backbone: <span style=\"color: #800080; text-decoration-color: #800080; font-weight: bold\">DeepNet</span><span style=\"font-weight: bold\">(</span>                                                                                                 \n",
       "  <span style=\"font-weight: bold\">(</span>layer1<span style=\"font-weight: bold\">)</span>: <span style=\"color: #800080; text-decoration-color: #800080; font-weight: bold\">Linear</span><span style=\"font-weight: bold\">(</span><span style=\"color: #808000; text-decoration-color: #808000\">in_features</span>=<span style=\"color: #008080; text-decoration-color: #008080; font-weight: bold\">16</span>, <span style=\"color: #808000; text-decoration-color: #808000\">out_features</span>=<span style=\"color: #008080; text-decoration-color: #008080; font-weight: bold\">512</span>, <span style=\"color: #808000; text-decoration-color: #808000\">bias</span>=<span style=\"color: #00ff00; text-decoration-color: #00ff00; font-style: italic\">True</span><span style=\"font-weight: bold\">)</span>                                                    \n",
       "  <span style=\"font-weight: bold\">(</span>act1<span style=\"font-weight: bold\">)</span>: <span style=\"color: #800080; text-decoration-color: #800080; font-weight: bold\">ReLU</span><span style=\"font-weight: bold\">()</span>                                                                                                   \n",
       "  <span style=\"font-weight: bold\">(</span>dropout1<span style=\"font-weight: bold\">)</span>: <span style=\"color: #800080; text-decoration-color: #800080; font-weight: bold\">Dropout</span><span style=\"font-weight: bold\">(</span><span style=\"color: #808000; text-decoration-color: #808000\">p</span>=<span style=\"color: #008080; text-decoration-color: #008080; font-weight: bold\">0.5</span>, <span style=\"color: #808000; text-decoration-color: #808000\">inplace</span>=<span style=\"color: #ff0000; text-decoration-color: #ff0000; font-style: italic\">False</span><span style=\"font-weight: bold\">)</span>                                                                        \n",
       "  <span style=\"font-weight: bold\">(</span>layer2<span style=\"font-weight: bold\">)</span>: <span style=\"color: #800080; text-decoration-color: #800080; font-weight: bold\">Linear</span><span style=\"font-weight: bold\">(</span><span style=\"color: #808000; text-decoration-color: #808000\">in_features</span>=<span style=\"color: #008080; text-decoration-color: #008080; font-weight: bold\">512</span>, <span style=\"color: #808000; text-decoration-color: #808000\">out_features</span>=<span style=\"color: #008080; text-decoration-color: #008080; font-weight: bold\">256</span>, <span style=\"color: #808000; text-decoration-color: #808000\">bias</span>=<span style=\"color: #00ff00; text-decoration-color: #00ff00; font-style: italic\">True</span><span style=\"font-weight: bold\">)</span>                                                   \n",
       "  <span style=\"font-weight: bold\">(</span>act2<span style=\"font-weight: bold\">)</span>: <span style=\"color: #800080; text-decoration-color: #800080; font-weight: bold\">ReLU</span><span style=\"font-weight: bold\">()</span>                                                                                                   \n",
       "  <span style=\"font-weight: bold\">(</span>layer3<span style=\"font-weight: bold\">)</span>: <span style=\"color: #800080; text-decoration-color: #800080; font-weight: bold\">Linear</span><span style=\"font-weight: bold\">(</span><span style=\"color: #808000; text-decoration-color: #808000\">in_features</span>=<span style=\"color: #008080; text-decoration-color: #008080; font-weight: bold\">256</span>, <span style=\"color: #808000; text-decoration-color: #808000\">out_features</span>=<span style=\"color: #008080; text-decoration-color: #008080; font-weight: bold\">60</span>, <span style=\"color: #808000; text-decoration-color: #808000\">bias</span>=<span style=\"color: #00ff00; text-decoration-color: #00ff00; font-style: italic\">True</span><span style=\"font-weight: bold\">)</span>                                                    \n",
       "  <span style=\"font-weight: bold\">(</span>act3<span style=\"font-weight: bold\">)</span>: <span style=\"color: #800080; text-decoration-color: #800080; font-weight: bold\">ReLU</span><span style=\"font-weight: bold\">()</span>                                                                                                   \n",
       "  <span style=\"font-weight: bold\">(</span>output<span style=\"font-weight: bold\">)</span>: <span style=\"color: #800080; text-decoration-color: #800080; font-weight: bold\">Linear</span><span style=\"font-weight: bold\">(</span><span style=\"color: #808000; text-decoration-color: #808000\">in_features</span>=<span style=\"color: #008080; text-decoration-color: #008080; font-weight: bold\">60</span>, <span style=\"color: #808000; text-decoration-color: #808000\">out_features</span>=<span style=\"color: #008080; text-decoration-color: #008080; font-weight: bold\">1</span>, <span style=\"color: #808000; text-decoration-color: #808000\">bias</span>=<span style=\"color: #00ff00; text-decoration-color: #00ff00; font-style: italic\">True</span><span style=\"font-weight: bold\">)</span>                                                      \n",
       "  <span style=\"font-weight: bold\">(</span>sigmoid<span style=\"font-weight: bold\">)</span>: <span style=\"color: #800080; text-decoration-color: #800080; font-weight: bold\">Sigmoid</span><span style=\"font-weight: bold\">()</span>                                                                                             \n",
       "<span style=\"font-weight: bold\">)</span>                                                                                                                  \n",
       "</pre>\n"
      ],
      "text/plain": [
       "Backbone: \u001b[1;35mDeepNet\u001b[0m\u001b[1m(\u001b[0m                                                                                                 \n",
       "  \u001b[1m(\u001b[0mlayer1\u001b[1m)\u001b[0m: \u001b[1;35mLinear\u001b[0m\u001b[1m(\u001b[0m\u001b[33min_features\u001b[0m=\u001b[1;36m16\u001b[0m, \u001b[33mout_features\u001b[0m=\u001b[1;36m512\u001b[0m, \u001b[33mbias\u001b[0m=\u001b[3;92mTrue\u001b[0m\u001b[1m)\u001b[0m                                                    \n",
       "  \u001b[1m(\u001b[0mact1\u001b[1m)\u001b[0m: \u001b[1;35mReLU\u001b[0m\u001b[1m(\u001b[0m\u001b[1m)\u001b[0m                                                                                                   \n",
       "  \u001b[1m(\u001b[0mdropout1\u001b[1m)\u001b[0m: \u001b[1;35mDropout\u001b[0m\u001b[1m(\u001b[0m\u001b[33mp\u001b[0m=\u001b[1;36m0\u001b[0m\u001b[1;36m.5\u001b[0m, \u001b[33minplace\u001b[0m=\u001b[3;91mFalse\u001b[0m\u001b[1m)\u001b[0m                                                                        \n",
       "  \u001b[1m(\u001b[0mlayer2\u001b[1m)\u001b[0m: \u001b[1;35mLinear\u001b[0m\u001b[1m(\u001b[0m\u001b[33min_features\u001b[0m=\u001b[1;36m512\u001b[0m, \u001b[33mout_features\u001b[0m=\u001b[1;36m256\u001b[0m, \u001b[33mbias\u001b[0m=\u001b[3;92mTrue\u001b[0m\u001b[1m)\u001b[0m                                                   \n",
       "  \u001b[1m(\u001b[0mact2\u001b[1m)\u001b[0m: \u001b[1;35mReLU\u001b[0m\u001b[1m(\u001b[0m\u001b[1m)\u001b[0m                                                                                                   \n",
       "  \u001b[1m(\u001b[0mlayer3\u001b[1m)\u001b[0m: \u001b[1;35mLinear\u001b[0m\u001b[1m(\u001b[0m\u001b[33min_features\u001b[0m=\u001b[1;36m256\u001b[0m, \u001b[33mout_features\u001b[0m=\u001b[1;36m60\u001b[0m, \u001b[33mbias\u001b[0m=\u001b[3;92mTrue\u001b[0m\u001b[1m)\u001b[0m                                                    \n",
       "  \u001b[1m(\u001b[0mact3\u001b[1m)\u001b[0m: \u001b[1;35mReLU\u001b[0m\u001b[1m(\u001b[0m\u001b[1m)\u001b[0m                                                                                                   \n",
       "  \u001b[1m(\u001b[0moutput\u001b[1m)\u001b[0m: \u001b[1;35mLinear\u001b[0m\u001b[1m(\u001b[0m\u001b[33min_features\u001b[0m=\u001b[1;36m60\u001b[0m, \u001b[33mout_features\u001b[0m=\u001b[1;36m1\u001b[0m, \u001b[33mbias\u001b[0m=\u001b[3;92mTrue\u001b[0m\u001b[1m)\u001b[0m                                                      \n",
       "  \u001b[1m(\u001b[0msigmoid\u001b[1m)\u001b[0m: \u001b[1;35mSigmoid\u001b[0m\u001b[1m(\u001b[0m\u001b[1m)\u001b[0m                                                                                             \n",
       "\u001b[1m)\u001b[0m                                                                                                                  \n"
      ]
     },
     "metadata": {},
     "output_type": "display_data"
    },
    {
     "name": "stdout",
     "output_type": "stream",
     "text": [
      "Base Server Called !\n",
      "Base Client constructor\n"
     ]
    }
   ],
   "source": [
    "server = FedAvgServer()"
   ]
  },
  {
   "cell_type": "code",
   "execution_count": null,
   "id": "04f11e4a",
   "metadata": {},
   "outputs": [],
   "source": []
  },
  {
   "cell_type": "code",
   "execution_count": 12,
   "id": "0b499095",
   "metadata": {
    "scrolled": true
   },
   "outputs": [
    {
     "name": "stdout",
     "output_type": "stream",
     "text": [
      "Base server Run called\n"
     ]
    },
    {
     "data": {
      "text/html": [
       "<pre style=\"white-space:pre;overflow-x:auto;line-height:normal;font-family:Menlo,'DejaVu Sans Mono',consolas,'Courier New',monospace\">Arguments:                                                                                                         \n",
       "<span style=\"font-weight: bold\">{</span>                                                                                                                  \n",
       "    <span style=\"color: #008000; text-decoration-color: #008000\">'k'</span>: <span style=\"color: #008080; text-decoration-color: #008080; font-weight: bold\">2</span>,                                                                                                        \n",
       "    <span style=\"color: #008000; text-decoration-color: #008000\">'global_epochs'</span>: <span style=\"color: #008080; text-decoration-color: #008080; font-weight: bold\">3</span>,                                                                                            \n",
       "    <span style=\"color: #008000; text-decoration-color: #008000\">'local_epochs'</span>: <span style=\"color: #008080; text-decoration-color: #008080; font-weight: bold\">15</span>,                                                                                            \n",
       "    <span style=\"color: #008000; text-decoration-color: #008000\">'local_lr'</span>: <span style=\"color: #008080; text-decoration-color: #008080; font-weight: bold\">0.001</span>,                                                                                             \n",
       "    <span style=\"color: #008000; text-decoration-color: #008000\">'hn_lr'</span>: <span style=\"color: #008080; text-decoration-color: #008080; font-weight: bold\">0.002</span>,                                                                                                \n",
       "    <span style=\"color: #008000; text-decoration-color: #008000\">'verbose_gap'</span>: <span style=\"color: #008080; text-decoration-color: #008080; font-weight: bold\">20</span>,                                                                                             \n",
       "    <span style=\"color: #008000; text-decoration-color: #008000\">'embedding_dim'</span>: <span style=\"color: #008080; text-decoration-color: #008080; font-weight: bold\">200</span>,                                                                                          \n",
       "    <span style=\"color: #008000; text-decoration-color: #008000\">'hidden_dim'</span>: <span style=\"color: #008080; text-decoration-color: #008080; font-weight: bold\">200</span>,                                                                                             \n",
       "    <span style=\"color: #008000; text-decoration-color: #008000\">'dataset'</span>: <span style=\"color: #008000; text-decoration-color: #008000\">'no'</span>,                                                                                               \n",
       "    <span style=\"color: #008000; text-decoration-color: #008000\">'batch_size'</span>: <span style=\"color: #008080; text-decoration-color: #008080; font-weight: bold\">64</span>,                                                                                              \n",
       "    <span style=\"color: #008000; text-decoration-color: #008000\">'valset_ratio'</span>: <span style=\"color: #008080; text-decoration-color: #008080; font-weight: bold\">0.0</span>,                                                                                           \n",
       "    <span style=\"color: #008000; text-decoration-color: #008000\">'testset_ratio'</span>: <span style=\"color: #008080; text-decoration-color: #008080; font-weight: bold\">0.3</span>,                                                                                          \n",
       "    <span style=\"color: #008000; text-decoration-color: #008000\">'gpu'</span>: <span style=\"color: #00ff00; text-decoration-color: #00ff00; font-style: italic\">True</span>,                                                                                                   \n",
       "    <span style=\"color: #008000; text-decoration-color: #008000\">'log'</span>: <span style=\"color: #008080; text-decoration-color: #008080; font-weight: bold\">0</span>,                                                                                                      \n",
       "    <span style=\"color: #008000; text-decoration-color: #008000\">'seed'</span>: <span style=\"color: #008080; text-decoration-color: #008080; font-weight: bold\">5</span>,                                                                                                     \n",
       "    <span style=\"color: #008000; text-decoration-color: #008000\">'client_num_per_round'</span>: <span style=\"color: #008080; text-decoration-color: #008080; font-weight: bold\">2</span>,                                                                                     \n",
       "    <span style=\"color: #008000; text-decoration-color: #008000\">'save_period'</span>: <span style=\"color: #008080; text-decoration-color: #008080; font-weight: bold\">10</span>                                                                                              \n",
       "<span style=\"font-weight: bold\">}</span>                                                                                                                  \n",
       "</pre>\n"
      ],
      "text/plain": [
       "Arguments:                                                                                                         \n",
       "\u001b[1m{\u001b[0m                                                                                                                  \n",
       "    \u001b[32m'k'\u001b[0m: \u001b[1;36m2\u001b[0m,                                                                                                        \n",
       "    \u001b[32m'global_epochs'\u001b[0m: \u001b[1;36m3\u001b[0m,                                                                                            \n",
       "    \u001b[32m'local_epochs'\u001b[0m: \u001b[1;36m15\u001b[0m,                                                                                            \n",
       "    \u001b[32m'local_lr'\u001b[0m: \u001b[1;36m0.001\u001b[0m,                                                                                             \n",
       "    \u001b[32m'hn_lr'\u001b[0m: \u001b[1;36m0.002\u001b[0m,                                                                                                \n",
       "    \u001b[32m'verbose_gap'\u001b[0m: \u001b[1;36m20\u001b[0m,                                                                                             \n",
       "    \u001b[32m'embedding_dim'\u001b[0m: \u001b[1;36m200\u001b[0m,                                                                                          \n",
       "    \u001b[32m'hidden_dim'\u001b[0m: \u001b[1;36m200\u001b[0m,                                                                                             \n",
       "    \u001b[32m'dataset'\u001b[0m: \u001b[32m'no'\u001b[0m,                                                                                               \n",
       "    \u001b[32m'batch_size'\u001b[0m: \u001b[1;36m64\u001b[0m,                                                                                              \n",
       "    \u001b[32m'valset_ratio'\u001b[0m: \u001b[1;36m0.0\u001b[0m,                                                                                           \n",
       "    \u001b[32m'testset_ratio'\u001b[0m: \u001b[1;36m0.3\u001b[0m,                                                                                          \n",
       "    \u001b[32m'gpu'\u001b[0m: \u001b[3;92mTrue\u001b[0m,                                                                                                   \n",
       "    \u001b[32m'log'\u001b[0m: \u001b[1;36m0\u001b[0m,                                                                                                      \n",
       "    \u001b[32m'seed'\u001b[0m: \u001b[1;36m5\u001b[0m,                                                                                                     \n",
       "    \u001b[32m'client_num_per_round'\u001b[0m: \u001b[1;36m2\u001b[0m,                                                                                     \n",
       "    \u001b[32m'save_period'\u001b[0m: \u001b[1;36m10\u001b[0m                                                                                              \n",
       "\u001b[1m}\u001b[0m                                                                                                                  \n"
      ]
     },
     "metadata": {},
     "output_type": "display_data"
    },
    {
     "name": "stdout",
     "output_type": "stream",
     "text": [
      "In Base server  train\n",
      "\n"
     ]
    },
    {
     "data": {
      "text/html": [
       "<pre style=\"white-space:pre;overflow-x:auto;line-height:normal;font-family:Menlo,'DejaVu Sans Mono',consolas,'Courier New',monospace\"><span style=\"color: #008000; text-decoration-color: #008000; font-weight: bold\">============================== TRAINING ==============================                                             </span>\n",
       "</pre>\n"
      ],
      "text/plain": [
       "\u001b[1;32m============================== TRAINING ==============================                                             \u001b[0m\n"
      ]
     },
     "metadata": {},
     "output_type": "display_data"
    },
    {
     "data": {
      "application/vnd.jupyter.widget-view+json": {
       "model_id": "d8f155fb16b04296aa18974b022608bd",
       "version_major": 2,
       "version_minor": 0
      },
      "text/plain": [
       "Output()"
      ]
     },
     "metadata": {},
     "output_type": "display_data"
    },
    {
     "data": {
      "text/html": [
       "<pre style=\"white-space:pre;overflow-x:auto;line-height:normal;font-family:Menlo,'DejaVu Sans Mono',consolas,'Courier New',monospace\">============================== ROUND: <span style=\"color: #008080; text-decoration-color: #008080; font-weight: bold\">0</span> ==============================                                             \n",
       "</pre>\n"
      ],
      "text/plain": [
       "============================== ROUND: \u001b[1;36m0\u001b[0m ==============================                                             \n"
      ]
     },
     "metadata": {},
     "output_type": "display_data"
    },
    {
     "data": {
      "text/html": [
       "<pre style=\"white-space:pre;overflow-x:auto;line-height:normal;font-family:Menlo,'DejaVu Sans Mono',consolas,'Courier New',monospace\">self.client_id::  9\n",
       "</pre>\n"
      ],
      "text/plain": [
       "self.client_id::  9\n"
      ]
     },
     "metadata": {},
     "output_type": "display_data"
    },
    {
     "data": {
      "text/html": [
       "<pre style=\"white-space:pre;overflow-x:auto;line-height:normal;font-family:Menlo,'DejaVu Sans Mono',consolas,'Courier New',monospace\">self.client_id :: len(self.trainset) 9 :: 86\n",
       "</pre>\n"
      ],
      "text/plain": [
       "self.client_id :: len(self.trainset) 9 :: 86\n"
      ]
     },
     "metadata": {},
     "output_type": "display_data"
    },
    {
     "data": {
      "text/html": [
       "<pre style=\"white-space:pre;overflow-x:auto;line-height:normal;font-family:Menlo,'DejaVu Sans Mono',consolas,'Courier New',monospace\">Testing Accuracy: 60.15%\n",
       "</pre>\n"
      ],
      "text/plain": [
       "Testing Accuracy: 60.15%\n"
      ]
     },
     "metadata": {},
     "output_type": "display_data"
    },
    {
     "data": {
      "text/html": [
       "<pre style=\"white-space:pre;overflow-x:auto;line-height:normal;font-family:Menlo,'DejaVu Sans Mono',consolas,'Courier New',monospace\">Precision: 0.00%\n",
       "</pre>\n"
      ],
      "text/plain": [
       "Precision: 0.00%\n"
      ]
     },
     "metadata": {},
     "output_type": "display_data"
    },
    {
     "data": {
      "text/html": [
       "<pre style=\"white-space:pre;overflow-x:auto;line-height:normal;font-family:Menlo,'DejaVu Sans Mono',consolas,'Courier New',monospace\">Recall: 0.00%\n",
       "</pre>\n"
      ],
      "text/plain": [
       "Recall: 0.00%\n"
      ]
     },
     "metadata": {},
     "output_type": "display_data"
    },
    {
     "data": {
      "text/html": [
       "<pre style=\"white-space:pre;overflow-x:auto;line-height:normal;font-family:Menlo,'DejaVu Sans Mono',consolas,'Courier New',monospace\">\n",
       "\n",
       "</pre>\n"
      ],
      "text/plain": [
       "\n",
       "\n"
      ]
     },
     "metadata": {},
     "output_type": "display_data"
    },
    {
     "data": {
      "text/html": [
       "<pre style=\"white-space:pre;overflow-x:auto;line-height:normal;font-family:Menlo,'DejaVu Sans Mono',consolas,'Courier New',monospace\">\n",
       "</pre>\n"
      ],
      "text/plain": [
       "\n"
      ]
     },
     "metadata": {},
     "output_type": "display_data"
    },
    {
     "data": {
      "text/html": [
       "<pre style=\"white-space:pre;overflow-x:auto;line-height:normal;font-family:Menlo,'DejaVu Sans Mono',consolas,'Courier New',monospace\">Testing Accuracy: 77.63%\n",
       "</pre>\n"
      ],
      "text/plain": [
       "Testing Accuracy: 77.63%\n"
      ]
     },
     "metadata": {},
     "output_type": "display_data"
    },
    {
     "data": {
      "text/html": [
       "<pre style=\"white-space:pre;overflow-x:auto;line-height:normal;font-family:Menlo,'DejaVu Sans Mono',consolas,'Courier New',monospace\">Precision: 68.68%\n",
       "</pre>\n"
      ],
      "text/plain": [
       "Precision: 68.68%\n"
      ]
     },
     "metadata": {},
     "output_type": "display_data"
    },
    {
     "data": {
      "text/html": [
       "<pre style=\"white-space:pre;overflow-x:auto;line-height:normal;font-family:Menlo,'DejaVu Sans Mono',consolas,'Courier New',monospace\">Recall: 80.65%\n",
       "</pre>\n"
      ],
      "text/plain": [
       "Recall: 80.65%\n"
      ]
     },
     "metadata": {},
     "output_type": "display_data"
    },
    {
     "data": {
      "text/html": [
       "<pre style=\"white-space:pre;overflow-x:auto;line-height:normal;font-family:Menlo,'DejaVu Sans Mono',consolas,'Courier New',monospace\">\n",
       "\n",
       "</pre>\n"
      ],
      "text/plain": [
       "\n",
       "\n"
      ]
     },
     "metadata": {},
     "output_type": "display_data"
    },
    {
     "data": {
      "text/html": [
       "<pre style=\"white-space:pre;overflow-x:auto;line-height:normal;font-family:Menlo,'DejaVu Sans Mono',consolas,'Courier New',monospace\">\n",
       "</pre>\n"
      ],
      "text/plain": [
       "\n"
      ]
     },
     "metadata": {},
     "output_type": "display_data"
    },
    {
     "data": {
      "text/html": [
       "<pre style=\"white-space:pre;overflow-x:auto;line-height:normal;font-family:Menlo,'DejaVu Sans Mono',consolas,'Courier New',monospace\">self.client_id::  4\n",
       "</pre>\n"
      ],
      "text/plain": [
       "self.client_id::  4\n"
      ]
     },
     "metadata": {},
     "output_type": "display_data"
    },
    {
     "data": {
      "text/html": [
       "<pre style=\"white-space:pre;overflow-x:auto;line-height:normal;font-family:Menlo,'DejaVu Sans Mono',consolas,'Courier New',monospace\">self.client_id :: len(self.trainset) 4 :: 53\n",
       "</pre>\n"
      ],
      "text/plain": [
       "self.client_id :: len(self.trainset) 4 :: 53\n"
      ]
     },
     "metadata": {},
     "output_type": "display_data"
    },
    {
     "data": {
      "text/html": [
       "<pre style=\"white-space:pre;overflow-x:auto;line-height:normal;font-family:Menlo,'DejaVu Sans Mono',consolas,'Courier New',monospace\">Testing Accuracy: 62.32%\n",
       "</pre>\n"
      ],
      "text/plain": [
       "Testing Accuracy: 62.32%\n"
      ]
     },
     "metadata": {},
     "output_type": "display_data"
    },
    {
     "data": {
      "text/html": [
       "<pre style=\"white-space:pre;overflow-x:auto;line-height:normal;font-family:Menlo,'DejaVu Sans Mono',consolas,'Courier New',monospace\">Precision: 0.00%\n",
       "</pre>\n"
      ],
      "text/plain": [
       "Precision: 0.00%\n"
      ]
     },
     "metadata": {},
     "output_type": "display_data"
    },
    {
     "data": {
      "text/html": [
       "<pre style=\"white-space:pre;overflow-x:auto;line-height:normal;font-family:Menlo,'DejaVu Sans Mono',consolas,'Courier New',monospace\">Recall: 0.00%\n",
       "</pre>\n"
      ],
      "text/plain": [
       "Recall: 0.00%\n"
      ]
     },
     "metadata": {},
     "output_type": "display_data"
    },
    {
     "data": {
      "text/html": [
       "<pre style=\"white-space:pre;overflow-x:auto;line-height:normal;font-family:Menlo,'DejaVu Sans Mono',consolas,'Courier New',monospace\">\n",
       "\n",
       "</pre>\n"
      ],
      "text/plain": [
       "\n",
       "\n"
      ]
     },
     "metadata": {},
     "output_type": "display_data"
    },
    {
     "data": {
      "text/html": [
       "<pre style=\"white-space:pre;overflow-x:auto;line-height:normal;font-family:Menlo,'DejaVu Sans Mono',consolas,'Courier New',monospace\">\n",
       "</pre>\n"
      ],
      "text/plain": [
       "\n"
      ]
     },
     "metadata": {},
     "output_type": "display_data"
    },
    {
     "data": {
      "text/html": [
       "<pre style=\"white-space:pre;overflow-x:auto;line-height:normal;font-family:Menlo,'DejaVu Sans Mono',consolas,'Courier New',monospace\">Testing Accuracy: 75.27%\n",
       "</pre>\n"
      ],
      "text/plain": [
       "Testing Accuracy: 75.27%\n"
      ]
     },
     "metadata": {},
     "output_type": "display_data"
    },
    {
     "data": {
      "text/html": [
       "<pre style=\"white-space:pre;overflow-x:auto;line-height:normal;font-family:Menlo,'DejaVu Sans Mono',consolas,'Courier New',monospace\">Precision: 63.72%\n",
       "</pre>\n"
      ],
      "text/plain": [
       "Precision: 63.72%\n"
      ]
     },
     "metadata": {},
     "output_type": "display_data"
    },
    {
     "data": {
      "text/html": [
       "<pre style=\"white-space:pre;overflow-x:auto;line-height:normal;font-family:Menlo,'DejaVu Sans Mono',consolas,'Courier New',monospace\">Recall: 79.82%\n",
       "</pre>\n"
      ],
      "text/plain": [
       "Recall: 79.82%\n"
      ]
     },
     "metadata": {},
     "output_type": "display_data"
    },
    {
     "data": {
      "text/html": [
       "<pre style=\"white-space:pre;overflow-x:auto;line-height:normal;font-family:Menlo,'DejaVu Sans Mono',consolas,'Courier New',monospace\">\n",
       "\n",
       "</pre>\n"
      ],
      "text/plain": [
       "\n",
       "\n"
      ]
     },
     "metadata": {},
     "output_type": "display_data"
    },
    {
     "data": {
      "text/html": [
       "<pre style=\"white-space:pre;overflow-x:auto;line-height:normal;font-family:Menlo,'DejaVu Sans Mono',consolas,'Courier New',monospace\">\n",
       "</pre>\n"
      ],
      "text/plain": [
       "\n"
      ]
     },
     "metadata": {},
     "output_type": "display_data"
    },
    {
     "data": {
      "text/html": [
       "<pre style=\"white-space:pre;overflow-x:auto;line-height:normal;font-family:Menlo,'DejaVu Sans Mono',consolas,'Courier New',monospace\">self.client_id::  5\n",
       "</pre>\n"
      ],
      "text/plain": [
       "self.client_id::  5\n"
      ]
     },
     "metadata": {},
     "output_type": "display_data"
    },
    {
     "data": {
      "text/html": [
       "<pre style=\"white-space:pre;overflow-x:auto;line-height:normal;font-family:Menlo,'DejaVu Sans Mono',consolas,'Courier New',monospace\">self.client_id :: len(self.trainset) 5 :: 54\n",
       "</pre>\n"
      ],
      "text/plain": [
       "self.client_id :: len(self.trainset) 5 :: 54\n"
      ]
     },
     "metadata": {},
     "output_type": "display_data"
    },
    {
     "data": {
      "text/html": [
       "<pre style=\"white-space:pre;overflow-x:auto;line-height:normal;font-family:Menlo,'DejaVu Sans Mono',consolas,'Courier New',monospace\">Testing Accuracy: 77.70%\n",
       "</pre>\n"
      ],
      "text/plain": [
       "Testing Accuracy: 77.70%\n"
      ]
     },
     "metadata": {},
     "output_type": "display_data"
    },
    {
     "data": {
      "text/html": [
       "<pre style=\"white-space:pre;overflow-x:auto;line-height:normal;font-family:Menlo,'DejaVu Sans Mono',consolas,'Courier New',monospace\">Precision: 70.56%\n",
       "</pre>\n"
      ],
      "text/plain": [
       "Precision: 70.56%\n"
      ]
     },
     "metadata": {},
     "output_type": "display_data"
    },
    {
     "data": {
      "text/html": [
       "<pre style=\"white-space:pre;overflow-x:auto;line-height:normal;font-family:Menlo,'DejaVu Sans Mono',consolas,'Courier New',monospace\">\n",
       "</pre>\n"
      ],
      "text/plain": [
       "\n"
      ]
     },
     "metadata": {},
     "output_type": "display_data"
    },
    {
     "data": {
      "text/html": [
       "<pre style=\"white-space:pre;overflow-x:auto;line-height:normal;font-family:Menlo,'DejaVu Sans Mono',consolas,'Courier New',monospace\">Testing Accuracy: 78.69%\n",
       "</pre>\n"
      ],
      "text/plain": [
       "Testing Accuracy: 78.69%\n"
      ]
     },
     "metadata": {},
     "output_type": "display_data"
    },
    {
     "data": {
      "text/html": [
       "<pre style=\"white-space:pre;overflow-x:auto;line-height:normal;font-family:Menlo,'DejaVu Sans Mono',consolas,'Courier New',monospace\">Precision: 70.87%\n",
       "</pre>\n"
      ],
      "text/plain": [
       "Precision: 70.87%\n"
      ]
     },
     "metadata": {},
     "output_type": "display_data"
    },
    {
     "data": {
      "text/html": [
       "<pre style=\"white-space:pre;overflow-x:auto;line-height:normal;font-family:Menlo,'DejaVu Sans Mono',consolas,'Courier New',monospace\">Recall: 84.08%\n",
       "</pre>\n"
      ],
      "text/plain": [
       "Recall: 84.08%\n"
      ]
     },
     "metadata": {},
     "output_type": "display_data"
    },
    {
     "data": {
      "text/html": [
       "<pre style=\"white-space:pre;overflow-x:auto;line-height:normal;font-family:Menlo,'DejaVu Sans Mono',consolas,'Courier New',monospace\">\n",
       "\n",
       "</pre>\n"
      ],
      "text/plain": [
       "\n",
       "\n"
      ]
     },
     "metadata": {},
     "output_type": "display_data"
    },
    {
     "data": {
      "text/html": [
       "<pre style=\"white-space:pre;overflow-x:auto;line-height:normal;font-family:Menlo,'DejaVu Sans Mono',consolas,'Courier New',monospace\">\n",
       "</pre>\n"
      ],
      "text/plain": [
       "\n"
      ]
     },
     "metadata": {},
     "output_type": "display_data"
    },
    {
     "data": {
      "text/html": [
       "<pre style=\"white-space:pre;overflow-x:auto;line-height:normal;font-family:Menlo,'DejaVu Sans Mono',consolas,'Courier New',monospace\">self.client_id::  8\n",
       "</pre>\n"
      ],
      "text/plain": [
       "self.client_id::  8\n"
      ]
     },
     "metadata": {},
     "output_type": "display_data"
    },
    {
     "data": {
      "text/html": [
       "<pre style=\"white-space:pre;overflow-x:auto;line-height:normal;font-family:Menlo,'DejaVu Sans Mono',consolas,'Courier New',monospace\">self.client_id :: len(self.trainset) 8 :: 59\n",
       "</pre>\n"
      ],
      "text/plain": [
       "self.client_id :: len(self.trainset) 8 :: 59\n"
      ]
     },
     "metadata": {},
     "output_type": "display_data"
    },
    {
     "data": {
      "text/html": [
       "<pre style=\"white-space:pre;overflow-x:auto;line-height:normal;font-family:Menlo,'DejaVu Sans Mono',consolas,'Courier New',monospace\">Testing Accuracy: 77.65%\n",
       "</pre>\n"
      ],
      "text/plain": [
       "Testing Accuracy: 77.65%\n"
      ]
     },
     "metadata": {},
     "output_type": "display_data"
    },
    {
     "data": {
      "text/html": [
       "<pre style=\"white-space:pre;overflow-x:auto;line-height:normal;font-family:Menlo,'DejaVu Sans Mono',consolas,'Courier New',monospace\">Precision: 68.94%\n",
       "</pre>\n"
      ],
      "text/plain": [
       "Precision: 68.94%\n"
      ]
     },
     "metadata": {},
     "output_type": "display_data"
    },
    {
     "data": {
      "text/html": [
       "<pre style=\"white-space:pre;overflow-x:auto;line-height:normal;font-family:Menlo,'DejaVu Sans Mono',consolas,'Courier New',monospace\">Recall: 81.16%\n",
       "</pre>\n"
      ],
      "text/plain": [
       "Recall: 81.16%\n"
      ]
     },
     "metadata": {},
     "output_type": "display_data"
    },
    {
     "data": {
      "text/html": [
       "<pre style=\"white-space:pre;overflow-x:auto;line-height:normal;font-family:Menlo,'DejaVu Sans Mono',consolas,'Courier New',monospace\">\n",
       "\n",
       "</pre>\n"
      ],
      "text/plain": [
       "\n",
       "\n"
      ]
     },
     "metadata": {},
     "output_type": "display_data"
    },
    {
     "data": {
      "text/html": [
       "<pre style=\"white-space:pre;overflow-x:auto;line-height:normal;font-family:Menlo,'DejaVu Sans Mono',consolas,'Courier New',monospace\">\n",
       "</pre>\n"
      ],
      "text/plain": [
       "\n"
      ]
     },
     "metadata": {},
     "output_type": "display_data"
    },
    {
     "data": {
      "text/html": [
       "<pre style=\"white-space:pre;overflow-x:auto;line-height:normal;font-family:Menlo,'DejaVu Sans Mono',consolas,'Courier New',monospace\">Testing Accuracy: 77.80%\n",
       "</pre>\n"
      ],
      "text/plain": [
       "Testing Accuracy: 77.80%\n"
      ]
     },
     "metadata": {},
     "output_type": "display_data"
    },
    {
     "data": {
      "text/html": [
       "<pre style=\"white-space:pre;overflow-x:auto;line-height:normal;font-family:Menlo,'DejaVu Sans Mono',consolas,'Courier New',monospace\">Precision: 73.31%\n",
       "</pre>\n"
      ],
      "text/plain": [
       "Precision: 73.31%\n"
      ]
     },
     "metadata": {},
     "output_type": "display_data"
    },
    {
     "data": {
      "text/html": [
       "<pre style=\"white-space:pre;overflow-x:auto;line-height:normal;font-family:Menlo,'DejaVu Sans Mono',consolas,'Courier New',monospace\">Recall: 70.71%\n",
       "</pre>\n"
      ],
      "text/plain": [
       "Recall: 70.71%\n"
      ]
     },
     "metadata": {},
     "output_type": "display_data"
    },
    {
     "data": {
      "text/html": [
       "<pre style=\"white-space:pre;overflow-x:auto;line-height:normal;font-family:Menlo,'DejaVu Sans Mono',consolas,'Courier New',monospace\">\n",
       "\n",
       "</pre>\n"
      ],
      "text/plain": [
       "\n",
       "\n"
      ]
     },
     "metadata": {},
     "output_type": "display_data"
    },
    {
     "data": {
      "text/html": [
       "<pre style=\"white-space:pre;overflow-x:auto;line-height:normal;font-family:Menlo,'DejaVu Sans Mono',consolas,'Courier New',monospace\">\n",
       "</pre>\n"
      ],
      "text/plain": [
       "\n"
      ]
     },
     "metadata": {},
     "output_type": "display_data"
    },
    {
     "data": {
      "text/html": [
       "<pre style=\"white-space:pre;overflow-x:auto;line-height:normal;font-family:Menlo,'DejaVu Sans Mono',consolas,'Courier New',monospace\">self.client_id::  0\n",
       "</pre>\n"
      ],
      "text/plain": [
       "self.client_id::  0\n"
      ]
     },
     "metadata": {},
     "output_type": "display_data"
    },
    {
     "data": {
      "text/html": [
       "<pre style=\"white-space:pre;overflow-x:auto;line-height:normal;font-family:Menlo,'DejaVu Sans Mono',consolas,'Courier New',monospace\">self.client_id :: len(self.trainset) 0 :: 35\n",
       "</pre>\n"
      ],
      "text/plain": [
       "self.client_id :: len(self.trainset) 0 :: 35\n"
      ]
     },
     "metadata": {},
     "output_type": "display_data"
    },
    {
     "data": {
      "text/html": [
       "<pre style=\"white-space:pre;overflow-x:auto;line-height:normal;font-family:Menlo,'DejaVu Sans Mono',consolas,'Courier New',monospace\">Testing Accuracy: 78.16%\n",
       "</pre>\n"
      ],
      "text/plain": [
       "Testing Accuracy: 78.16%\n"
      ]
     },
     "metadata": {},
     "output_type": "display_data"
    },
    {
     "data": {
      "text/html": [
       "<pre style=\"white-space:pre;overflow-x:auto;line-height:normal;font-family:Menlo,'DejaVu Sans Mono',consolas,'Courier New',monospace\">Precision: 75.54%\n",
       "</pre>\n"
      ],
      "text/plain": [
       "Precision: 75.54%\n"
      ]
     },
     "metadata": {},
     "output_type": "display_data"
    },
    {
     "data": {
      "text/html": [
       "<pre style=\"white-space:pre;overflow-x:auto;line-height:normal;font-family:Menlo,'DejaVu Sans Mono',consolas,'Courier New',monospace\">Recall: 72.62%\n",
       "</pre>\n"
      ],
      "text/plain": [
       "Recall: 72.62%\n"
      ]
     },
     "metadata": {},
     "output_type": "display_data"
    },
    {
     "data": {
      "text/html": [
       "<pre style=\"white-space:pre;overflow-x:auto;line-height:normal;font-family:Menlo,'DejaVu Sans Mono',consolas,'Courier New',monospace\">\n",
       "\n",
       "</pre>\n"
      ],
      "text/plain": [
       "\n",
       "\n"
      ]
     },
     "metadata": {},
     "output_type": "display_data"
    },
    {
     "data": {
      "text/html": [
       "<pre style=\"white-space:pre;overflow-x:auto;line-height:normal;font-family:Menlo,'DejaVu Sans Mono',consolas,'Courier New',monospace\">\n",
       "</pre>\n"
      ],
      "text/plain": [
       "\n"
      ]
     },
     "metadata": {},
     "output_type": "display_data"
    },
    {
     "data": {
      "text/html": [
       "<pre style=\"white-space:pre;overflow-x:auto;line-height:normal;font-family:Menlo,'DejaVu Sans Mono',consolas,'Courier New',monospace\">Testing Accuracy: 78.42%\n",
       "</pre>\n"
      ],
      "text/plain": [
       "Testing Accuracy: 78.42%\n"
      ]
     },
     "metadata": {},
     "output_type": "display_data"
    },
    {
     "data": {
      "text/html": [
       "<pre style=\"white-space:pre;overflow-x:auto;line-height:normal;font-family:Menlo,'DejaVu Sans Mono',consolas,'Courier New',monospace\">Precision: 76.01%\n",
       "</pre>\n"
      ],
      "text/plain": [
       "Precision: 76.01%\n"
      ]
     },
     "metadata": {},
     "output_type": "display_data"
    },
    {
     "data": {
      "text/html": [
       "<pre style=\"white-space:pre;overflow-x:auto;line-height:normal;font-family:Menlo,'DejaVu Sans Mono',consolas,'Courier New',monospace\">Recall: 72.62%\n",
       "</pre>\n"
      ],
      "text/plain": [
       "Recall: 72.62%\n"
      ]
     },
     "metadata": {},
     "output_type": "display_data"
    },
    {
     "data": {
      "text/html": [
       "<pre style=\"white-space:pre;overflow-x:auto;line-height:normal;font-family:Menlo,'DejaVu Sans Mono',consolas,'Courier New',monospace\">\n",
       "\n",
       "</pre>\n"
      ],
      "text/plain": [
       "\n",
       "\n"
      ]
     },
     "metadata": {},
     "output_type": "display_data"
    },
    {
     "data": {
      "text/html": [
       "<pre style=\"white-space:pre;overflow-x:auto;line-height:normal;font-family:Menlo,'DejaVu Sans Mono',consolas,'Courier New',monospace\">\n",
       "</pre>\n"
      ],
      "text/plain": [
       "\n"
      ]
     },
     "metadata": {},
     "output_type": "display_data"
    },
    {
     "data": {
      "text/html": [
       "<pre style=\"white-space:pre;overflow-x:auto;line-height:normal;font-family:Menlo,'DejaVu Sans Mono',consolas,'Courier New',monospace\">self.client_id::  7\n",
       "</pre>\n"
      ],
      "text/plain": [
       "self.client_id::  7\n"
      ]
     },
     "metadata": {},
     "output_type": "display_data"
    },
    {
     "data": {
      "text/html": [
       "<pre style=\"white-space:pre;overflow-x:auto;line-height:normal;font-family:Menlo,'DejaVu Sans Mono',consolas,'Courier New',monospace\">self.client_id :: len(self.trainset) 7 :: 57\n",
       "</pre>\n"
      ],
      "text/plain": [
       "self.client_id :: len(self.trainset) 7 :: 57\n"
      ]
     },
     "metadata": {},
     "output_type": "display_data"
    },
    {
     "data": {
      "text/html": [
       "<pre style=\"white-space:pre;overflow-x:auto;line-height:normal;font-family:Menlo,'DejaVu Sans Mono',consolas,'Courier New',monospace\">Testing Accuracy: 79.14%\n",
       "</pre>\n"
      ],
      "text/plain": [
       "Testing Accuracy: 79.14%\n"
      ]
     },
     "metadata": {},
     "output_type": "display_data"
    },
    {
     "data": {
      "text/html": [
       "<pre style=\"white-space:pre;overflow-x:auto;line-height:normal;font-family:Menlo,'DejaVu Sans Mono',consolas,'Courier New',monospace\">Precision: 75.80%\n",
       "</pre>\n"
      ],
      "text/plain": [
       "Precision: 75.80%\n"
      ]
     },
     "metadata": {},
     "output_type": "display_data"
    },
    {
     "data": {
      "text/html": [
       "<pre style=\"white-space:pre;overflow-x:auto;line-height:normal;font-family:Menlo,'DejaVu Sans Mono',consolas,'Courier New',monospace\">Recall: 71.64%\n",
       "</pre>\n"
      ],
      "text/plain": [
       "Recall: 71.64%\n"
      ]
     },
     "metadata": {},
     "output_type": "display_data"
    },
    {
     "data": {
      "text/html": [
       "<pre style=\"white-space:pre;overflow-x:auto;line-height:normal;font-family:Menlo,'DejaVu Sans Mono',consolas,'Courier New',monospace\">\n",
       "\n",
       "</pre>\n"
      ],
      "text/plain": [
       "\n",
       "\n"
      ]
     },
     "metadata": {},
     "output_type": "display_data"
    },
    {
     "data": {
      "text/html": [
       "<pre style=\"white-space:pre;overflow-x:auto;line-height:normal;font-family:Menlo,'DejaVu Sans Mono',consolas,'Courier New',monospace\">\n",
       "</pre>\n"
      ],
      "text/plain": [
       "\n"
      ]
     },
     "metadata": {},
     "output_type": "display_data"
    },
    {
     "data": {
      "text/html": [
       "<pre style=\"white-space:pre;overflow-x:auto;line-height:normal;font-family:Menlo,'DejaVu Sans Mono',consolas,'Courier New',monospace\">Testing Accuracy: 79.60%\n",
       "</pre>\n"
      ],
      "text/plain": [
       "Testing Accuracy: 79.60%\n"
      ]
     },
     "metadata": {},
     "output_type": "display_data"
    },
    {
     "data": {
      "text/html": [
       "<pre style=\"white-space:pre;overflow-x:auto;line-height:normal;font-family:Menlo,'DejaVu Sans Mono',consolas,'Courier New',monospace\">Precision: 72.76%\n",
       "</pre>\n"
      ],
      "text/plain": [
       "Precision: 72.76%\n"
      ]
     },
     "metadata": {},
     "output_type": "display_data"
    },
    {
     "data": {
      "text/html": [
       "<pre style=\"white-space:pre;overflow-x:auto;line-height:normal;font-family:Menlo,'DejaVu Sans Mono',consolas,'Courier New',monospace\">Recall: 79.77%\n",
       "</pre>\n"
      ],
      "text/plain": [
       "Recall: 79.77%\n"
      ]
     },
     "metadata": {},
     "output_type": "display_data"
    },
    {
     "data": {
      "text/html": [
       "<pre style=\"white-space:pre;overflow-x:auto;line-height:normal;font-family:Menlo,'DejaVu Sans Mono',consolas,'Courier New',monospace\">\n",
       "\n",
       "</pre>\n"
      ],
      "text/plain": [
       "\n",
       "\n"
      ]
     },
     "metadata": {},
     "output_type": "display_data"
    },
    {
     "data": {
      "text/html": [
       "<pre style=\"white-space:pre;overflow-x:auto;line-height:normal;font-family:Menlo,'DejaVu Sans Mono',consolas,'Courier New',monospace\">\n",
       "</pre>\n"
      ],
      "text/plain": [
       "\n"
      ]
     },
     "metadata": {},
     "output_type": "display_data"
    },
    {
     "data": {
      "text/html": [
       "<pre style=\"white-space:pre;overflow-x:auto;line-height:normal;font-family:Menlo,'DejaVu Sans Mono',consolas,'Courier New',monospace\"></pre>\n"
      ],
      "text/plain": []
     },
     "metadata": {},
     "output_type": "display_data"
    },
    {
     "data": {
      "text/html": [
       "<pre style=\"white-space:pre;overflow-x:auto;line-height:normal;font-family:Menlo,'DejaVu Sans Mono',consolas,'Courier New',monospace\">\n",
       "</pre>\n"
      ],
      "text/plain": [
       "\n"
      ]
     },
     "metadata": {},
     "output_type": "display_data"
    },
    {
     "data": {
      "text/html": [
       "<pre style=\"white-space:pre;overflow-x:auto;line-height:normal;font-family:Menlo,'DejaVu Sans Mono',consolas,'Courier New',monospace\"><span style=\"font-weight: bold\">{</span>                                                                                                                  \n",
       "    <span style=\"color: #008080; text-decoration-color: #008080; font-weight: bold\">0</span>: <span style=\"font-weight: bold\">{</span><span style=\"color: #008000; text-decoration-color: #008000\">'ROUND: 2'</span>: <span style=\"font-weight: bold\">(</span><span style=\"color: #008000; text-decoration-color: #008000\">'0.4519 -&gt; 0.4475'</span>,<span style=\"font-weight: bold\">)}</span>,                                                                        \n",
       "    <span style=\"color: #008080; text-decoration-color: #008080; font-weight: bold\">1</span>: <span style=\"font-weight: bold\">{}</span>,                                                                                                         \n",
       "    <span style=\"color: #008080; text-decoration-color: #008080; font-weight: bold\">2</span>: <span style=\"font-weight: bold\">{}</span>,                                                                                                         \n",
       "    <span style=\"color: #008080; text-decoration-color: #008080; font-weight: bold\">3</span>: <span style=\"font-weight: bold\">{}</span>,                                                                                                         \n",
       "    <span style=\"color: #008080; text-decoration-color: #008080; font-weight: bold\">4</span>: <span style=\"font-weight: bold\">{</span><span style=\"color: #008000; text-decoration-color: #008000\">'ROUND: 0'</span>: <span style=\"font-weight: bold\">(</span><span style=\"color: #008000; text-decoration-color: #008000\">'0.6908 -&gt; 0.4918'</span>,<span style=\"font-weight: bold\">)}</span>,                                                                        \n",
       "    <span style=\"color: #008080; text-decoration-color: #008080; font-weight: bold\">5</span>: <span style=\"font-weight: bold\">{</span><span style=\"color: #008000; text-decoration-color: #008000\">'ROUND: 1'</span>: <span style=\"font-weight: bold\">(</span><span style=\"color: #008000; text-decoration-color: #008000\">'0.4678 -&gt; 0.4533'</span>,<span style=\"font-weight: bold\">)}</span>,                                                                        \n",
       "    <span style=\"color: #008080; text-decoration-color: #008080; font-weight: bold\">6</span>: <span style=\"font-weight: bold\">{}</span>,                                                                                                         \n",
       "    <span style=\"color: #008080; text-decoration-color: #008080; font-weight: bold\">7</span>: <span style=\"font-weight: bold\">{</span><span style=\"color: #008000; text-decoration-color: #008000\">'ROUND: 2'</span>: <span style=\"font-weight: bold\">(</span><span style=\"color: #008000; text-decoration-color: #008000\">'0.4362 -&gt; 0.4183'</span>,<span style=\"font-weight: bold\">)}</span>,                                                                        \n",
       "    <span style=\"color: #008080; text-decoration-color: #008080; font-weight: bold\">8</span>: <span style=\"font-weight: bold\">{</span><span style=\"color: #008000; text-decoration-color: #008000\">'ROUND: 1'</span>: <span style=\"font-weight: bold\">(</span><span style=\"color: #008000; text-decoration-color: #008000\">'0.4607 -&gt; 0.4438'</span>,<span style=\"font-weight: bold\">)}</span>,                                                                        \n",
       "    <span style=\"color: #008080; text-decoration-color: #008080; font-weight: bold\">9</span>: <span style=\"font-weight: bold\">{</span><span style=\"color: #008000; text-decoration-color: #008000\">'ROUND: 0'</span>: <span style=\"font-weight: bold\">(</span><span style=\"color: #008000; text-decoration-color: #008000\">'0.6911 -&gt; 0.4576'</span>,<span style=\"font-weight: bold\">)}</span>                                                                         \n",
       "<span style=\"font-weight: bold\">}</span>                                                                                                                  \n",
       "</pre>\n"
      ],
      "text/plain": [
       "\u001b[1m{\u001b[0m                                                                                                                  \n",
       "    \u001b[1;36m0\u001b[0m: \u001b[1m{\u001b[0m\u001b[32m'ROUND: 2'\u001b[0m: \u001b[1m(\u001b[0m\u001b[32m'0.4519 -> 0.4475'\u001b[0m,\u001b[1m)\u001b[0m\u001b[1m}\u001b[0m,                                                                        \n",
       "    \u001b[1;36m1\u001b[0m: \u001b[1m{\u001b[0m\u001b[1m}\u001b[0m,                                                                                                         \n",
       "    \u001b[1;36m2\u001b[0m: \u001b[1m{\u001b[0m\u001b[1m}\u001b[0m,                                                                                                         \n",
       "    \u001b[1;36m3\u001b[0m: \u001b[1m{\u001b[0m\u001b[1m}\u001b[0m,                                                                                                         \n",
       "    \u001b[1;36m4\u001b[0m: \u001b[1m{\u001b[0m\u001b[32m'ROUND: 0'\u001b[0m: \u001b[1m(\u001b[0m\u001b[32m'0.6908 -> 0.4918'\u001b[0m,\u001b[1m)\u001b[0m\u001b[1m}\u001b[0m,                                                                        \n",
       "    \u001b[1;36m5\u001b[0m: \u001b[1m{\u001b[0m\u001b[32m'ROUND: 1'\u001b[0m: \u001b[1m(\u001b[0m\u001b[32m'0.4678 -> 0.4533'\u001b[0m,\u001b[1m)\u001b[0m\u001b[1m}\u001b[0m,                                                                        \n",
       "    \u001b[1;36m6\u001b[0m: \u001b[1m{\u001b[0m\u001b[1m}\u001b[0m,                                                                                                         \n",
       "    \u001b[1;36m7\u001b[0m: \u001b[1m{\u001b[0m\u001b[32m'ROUND: 2'\u001b[0m: \u001b[1m(\u001b[0m\u001b[32m'0.4362 -> 0.4183'\u001b[0m,\u001b[1m)\u001b[0m\u001b[1m}\u001b[0m,                                                                        \n",
       "    \u001b[1;36m8\u001b[0m: \u001b[1m{\u001b[0m\u001b[32m'ROUND: 1'\u001b[0m: \u001b[1m(\u001b[0m\u001b[32m'0.4607 -> 0.4438'\u001b[0m,\u001b[1m)\u001b[0m\u001b[1m}\u001b[0m,                                                                        \n",
       "    \u001b[1;36m9\u001b[0m: \u001b[1m{\u001b[0m\u001b[32m'ROUND: 0'\u001b[0m: \u001b[1m(\u001b[0m\u001b[32m'0.6911 -> 0.4576'\u001b[0m,\u001b[1m)\u001b[0m\u001b[1m}\u001b[0m                                                                         \n",
       "\u001b[1m}\u001b[0m                                                                                                                  \n"
      ]
     },
     "metadata": {},
     "output_type": "display_data"
    },
    {
     "data": {
      "text/html": [
       "<pre style=\"white-space:pre;overflow-x:auto;line-height:normal;font-family:Menlo,'DejaVu Sans Mono',consolas,'Courier New',monospace\"><span style=\"color: #000080; text-decoration-color: #000080; font-weight: bold\">============================== TESTING ==============================                                              </span>\n",
       "</pre>\n"
      ],
      "text/plain": [
       "\u001b[1;34m============================== TESTING ==============================                                              \u001b[0m\n"
      ]
     },
     "metadata": {},
     "output_type": "display_data"
    },
    {
     "data": {
      "application/vnd.jupyter.widget-view+json": {
       "model_id": "409099081f2c413bb156db6d83c6499f",
       "version_major": 2,
       "version_minor": 0
      },
      "text/plain": [
       "Output()"
      ]
     },
     "metadata": {},
     "output_type": "display_data"
    },
    {
     "data": {
      "text/html": [
       "<pre style=\"white-space:pre;overflow-x:auto;line-height:normal;font-family:Menlo,'DejaVu Sans Mono',consolas,'Courier New',monospace\">self.client_id::  0\n",
       "</pre>\n"
      ],
      "text/plain": [
       "self.client_id::  0\n"
      ]
     },
     "metadata": {},
     "output_type": "display_data"
    },
    {
     "data": {
      "text/html": [
       "<pre style=\"white-space:pre;overflow-x:auto;line-height:normal;font-family:Menlo,'DejaVu Sans Mono',consolas,'Courier New',monospace\">self.client_id :: len(self.trainset) 0 :: 35\n",
       "</pre>\n"
      ],
      "text/plain": [
       "self.client_id :: len(self.trainset) 0 :: 35\n"
      ]
     },
     "metadata": {},
     "output_type": "display_data"
    },
    {
     "data": {
      "text/html": [
       "<pre style=\"white-space:pre;overflow-x:auto;line-height:normal;font-family:Menlo,'DejaVu Sans Mono',consolas,'Courier New',monospace\">Testing Accuracy: 79.05%\n",
       "</pre>\n"
      ],
      "text/plain": [
       "Testing Accuracy: 79.05%\n"
      ]
     },
     "metadata": {},
     "output_type": "display_data"
    },
    {
     "data": {
      "text/html": [
       "<pre style=\"white-space:pre;overflow-x:auto;line-height:normal;font-family:Menlo,'DejaVu Sans Mono',consolas,'Courier New',monospace\">Precision: 73.76%\n",
       "</pre>\n"
      ],
      "text/plain": [
       "Precision: 73.76%\n"
      ]
     },
     "metadata": {},
     "output_type": "display_data"
    },
    {
     "data": {
      "text/html": [
       "<pre style=\"white-space:pre;overflow-x:auto;line-height:normal;font-family:Menlo,'DejaVu Sans Mono',consolas,'Courier New',monospace\">Recall: 79.46%\n",
       "</pre>\n"
      ],
      "text/plain": [
       "Recall: 79.46%\n"
      ]
     },
     "metadata": {},
     "output_type": "display_data"
    },
    {
     "data": {
      "text/html": [
       "<pre style=\"white-space:pre;overflow-x:auto;line-height:normal;font-family:Menlo,'DejaVu Sans Mono',consolas,'Courier New',monospace\">\n",
       "\n",
       "</pre>\n"
      ],
      "text/plain": [
       "\n",
       "\n"
      ]
     },
     "metadata": {},
     "output_type": "display_data"
    },
    {
     "data": {
      "text/html": [
       "<pre style=\"white-space:pre;overflow-x:auto;line-height:normal;font-family:Menlo,'DejaVu Sans Mono',consolas,'Courier New',monospace\">\n",
       "</pre>\n"
      ],
      "text/plain": [
       "\n"
      ]
     },
     "metadata": {},
     "output_type": "display_data"
    },
    {
     "data": {
      "text/html": [
       "<pre style=\"white-space:pre;overflow-x:auto;line-height:normal;font-family:Menlo,'DejaVu Sans Mono',consolas,'Courier New',monospace\">client <span style=\"font-weight: bold\">[</span><span style=\"color: #008080; text-decoration-color: #008080; font-weight: bold\">0</span><span style=\"font-weight: bold\">]</span>  <span style=\"color: #800000; text-decoration-color: #800000\">loss: </span><span style=\"color: #800000; text-decoration-color: #800000; font-weight: bold\">0.4297</span><span style=\"color: #800000; text-decoration-color: #800000\">    </span><span style=\"color: #800080; text-decoration-color: #800080\">accuracy: </span><span style=\"color: #800080; text-decoration-color: #800080; font-weight: bold\">0.79</span><span style=\"color: #800080; text-decoration-color: #800080\">%</span>                                                                        \n",
       "</pre>\n"
      ],
      "text/plain": [
       "client \u001b[1m[\u001b[0m\u001b[1;36m0\u001b[0m\u001b[1m]\u001b[0m  \u001b[31mloss: \u001b[0m\u001b[1;31m0.4297\u001b[0m\u001b[31m    \u001b[0m\u001b[35maccuracy: \u001b[0m\u001b[1;35m0.79\u001b[0m\u001b[35m%\u001b[0m                                                                        \n"
      ]
     },
     "metadata": {},
     "output_type": "display_data"
    },
    {
     "data": {
      "text/html": [
       "<pre style=\"white-space:pre;overflow-x:auto;line-height:normal;font-family:Menlo,'DejaVu Sans Mono',consolas,'Courier New',monospace\">self.client_id::  1\n",
       "</pre>\n"
      ],
      "text/plain": [
       "self.client_id::  1\n"
      ]
     },
     "metadata": {},
     "output_type": "display_data"
    },
    {
     "data": {
      "text/html": [
       "<pre style=\"white-space:pre;overflow-x:auto;line-height:normal;font-family:Menlo,'DejaVu Sans Mono',consolas,'Courier New',monospace\">self.client_id :: len(self.trainset) 1 :: 37\n",
       "</pre>\n"
      ],
      "text/plain": [
       "self.client_id :: len(self.trainset) 1 :: 37\n"
      ]
     },
     "metadata": {},
     "output_type": "display_data"
    },
    {
     "data": {
      "text/html": [
       "<pre style=\"white-space:pre;overflow-x:auto;line-height:normal;font-family:Menlo,'DejaVu Sans Mono',consolas,'Courier New',monospace\">Precision: 75.53%\n",
       "</pre>\n"
      ],
      "text/plain": [
       "Precision: 75.53%\n"
      ]
     },
     "metadata": {},
     "output_type": "display_data"
    },
    {
     "data": {
      "text/html": [
       "<pre style=\"white-space:pre;overflow-x:auto;line-height:normal;font-family:Menlo,'DejaVu Sans Mono',consolas,'Courier New',monospace\">Recall: 79.78%\n",
       "</pre>\n"
      ],
      "text/plain": [
       "Recall: 79.78%\n"
      ]
     },
     "metadata": {},
     "output_type": "display_data"
    },
    {
     "data": {
      "text/html": [
       "<pre style=\"white-space:pre;overflow-x:auto;line-height:normal;font-family:Menlo,'DejaVu Sans Mono',consolas,'Courier New',monospace\">\n",
       "\n",
       "</pre>\n"
      ],
      "text/plain": [
       "\n",
       "\n"
      ]
     },
     "metadata": {},
     "output_type": "display_data"
    },
    {
     "data": {
      "text/html": [
       "<pre style=\"white-space:pre;overflow-x:auto;line-height:normal;font-family:Menlo,'DejaVu Sans Mono',consolas,'Courier New',monospace\">\n",
       "</pre>\n"
      ],
      "text/plain": [
       "\n"
      ]
     },
     "metadata": {},
     "output_type": "display_data"
    },
    {
     "data": {
      "text/html": [
       "<pre style=\"white-space:pre;overflow-x:auto;line-height:normal;font-family:Menlo,'DejaVu Sans Mono',consolas,'Courier New',monospace\">client <span style=\"font-weight: bold\">[</span><span style=\"color: #008080; text-decoration-color: #008080; font-weight: bold\">1</span><span style=\"font-weight: bold\">]</span>  <span style=\"color: #800000; text-decoration-color: #800000\">loss: </span><span style=\"color: #800000; text-decoration-color: #800000; font-weight: bold\">0.4360</span><span style=\"color: #800000; text-decoration-color: #800000\">    </span><span style=\"color: #800080; text-decoration-color: #800080\">accuracy: </span><span style=\"color: #800080; text-decoration-color: #800080; font-weight: bold\">0.80</span><span style=\"color: #800080; text-decoration-color: #800080\">%</span>                                                                        \n",
       "</pre>\n"
      ],
      "text/plain": [
       "client \u001b[1m[\u001b[0m\u001b[1;36m1\u001b[0m\u001b[1m]\u001b[0m  \u001b[31mloss: \u001b[0m\u001b[1;31m0.4360\u001b[0m\u001b[31m    \u001b[0m\u001b[35maccuracy: \u001b[0m\u001b[1;35m0.80\u001b[0m\u001b[35m%\u001b[0m                                                                        \n"
      ]
     },
     "metadata": {},
     "output_type": "display_data"
    },
    {
     "data": {
      "text/html": [
       "<pre style=\"white-space:pre;overflow-x:auto;line-height:normal;font-family:Menlo,'DejaVu Sans Mono',consolas,'Courier New',monospace\">self.client_id::  2\n",
       "</pre>\n"
      ],
      "text/plain": [
       "self.client_id::  2\n"
      ]
     },
     "metadata": {},
     "output_type": "display_data"
    },
    {
     "data": {
      "text/html": [
       "<pre style=\"white-space:pre;overflow-x:auto;line-height:normal;font-family:Menlo,'DejaVu Sans Mono',consolas,'Courier New',monospace\">self.client_id :: len(self.trainset) 2 :: 44\n",
       "</pre>\n"
      ],
      "text/plain": [
       "self.client_id :: len(self.trainset) 2 :: 44\n"
      ]
     },
     "metadata": {},
     "output_type": "display_data"
    },
    {
     "data": {
      "text/html": [
       "<pre style=\"white-space:pre;overflow-x:auto;line-height:normal;font-family:Menlo,'DejaVu Sans Mono',consolas,'Courier New',monospace\">Testing Accuracy: 80.56%\n",
       "</pre>\n"
      ],
      "text/plain": [
       "Testing Accuracy: 80.56%\n"
      ]
     },
     "metadata": {},
     "output_type": "display_data"
    },
    {
     "data": {
      "text/html": [
       "<pre style=\"white-space:pre;overflow-x:auto;line-height:normal;font-family:Menlo,'DejaVu Sans Mono',consolas,'Courier New',monospace\">Precision: 73.35%\n",
       "</pre>\n"
      ],
      "text/plain": [
       "Precision: 73.35%\n"
      ]
     },
     "metadata": {},
     "output_type": "display_data"
    },
    {
     "data": {
      "text/html": [
       "<pre style=\"white-space:pre;overflow-x:auto;line-height:normal;font-family:Menlo,'DejaVu Sans Mono',consolas,'Courier New',monospace\">Recall: 81.82%\n",
       "</pre>\n"
      ],
      "text/plain": [
       "Recall: 81.82%\n"
      ]
     },
     "metadata": {},
     "output_type": "display_data"
    },
    {
     "data": {
      "text/html": [
       "<pre style=\"white-space:pre;overflow-x:auto;line-height:normal;font-family:Menlo,'DejaVu Sans Mono',consolas,'Courier New',monospace\">\n",
       "\n",
       "</pre>\n"
      ],
      "text/plain": [
       "\n",
       "\n"
      ]
     },
     "metadata": {},
     "output_type": "display_data"
    },
    {
     "data": {
      "text/html": [
       "<pre style=\"white-space:pre;overflow-x:auto;line-height:normal;font-family:Menlo,'DejaVu Sans Mono',consolas,'Courier New',monospace\">\n",
       "</pre>\n"
      ],
      "text/plain": [
       "\n"
      ]
     },
     "metadata": {},
     "output_type": "display_data"
    },
    {
     "data": {
      "text/html": [
       "<pre style=\"white-space:pre;overflow-x:auto;line-height:normal;font-family:Menlo,'DejaVu Sans Mono',consolas,'Courier New',monospace\">client <span style=\"font-weight: bold\">[</span><span style=\"color: #008080; text-decoration-color: #008080; font-weight: bold\">2</span><span style=\"font-weight: bold\">]</span>  <span style=\"color: #800000; text-decoration-color: #800000\">loss: </span><span style=\"color: #800000; text-decoration-color: #800000; font-weight: bold\">0.4148</span><span style=\"color: #800000; text-decoration-color: #800000\">    </span><span style=\"color: #800080; text-decoration-color: #800080\">accuracy: </span><span style=\"color: #800080; text-decoration-color: #800080; font-weight: bold\">0.81</span><span style=\"color: #800080; text-decoration-color: #800080\">%</span>                                                                        \n",
       "</pre>\n"
      ],
      "text/plain": [
       "client \u001b[1m[\u001b[0m\u001b[1;36m2\u001b[0m\u001b[1m]\u001b[0m  \u001b[31mloss: \u001b[0m\u001b[1;31m0.4148\u001b[0m\u001b[31m    \u001b[0m\u001b[35maccuracy: \u001b[0m\u001b[1;35m0.81\u001b[0m\u001b[35m%\u001b[0m                                                                        \n"
      ]
     },
     "metadata": {},
     "output_type": "display_data"
    },
    {
     "data": {
      "text/html": [
       "<pre style=\"white-space:pre;overflow-x:auto;line-height:normal;font-family:Menlo,'DejaVu Sans Mono',consolas,'Courier New',monospace\">self.client_id::  3\n",
       "</pre>\n"
      ],
      "text/plain": [
       "self.client_id::  3\n"
      ]
     },
     "metadata": {},
     "output_type": "display_data"
    },
    {
     "data": {
      "text/html": [
       "<pre style=\"white-space:pre;overflow-x:auto;line-height:normal;font-family:Menlo,'DejaVu Sans Mono',consolas,'Courier New',monospace\">self.client_id :: len(self.trainset) 3 :: 46\n",
       "</pre>\n"
      ],
      "text/plain": [
       "self.client_id :: len(self.trainset) 3 :: 46\n"
      ]
     },
     "metadata": {},
     "output_type": "display_data"
    },
    {
     "data": {
      "text/html": [
       "<pre style=\"white-space:pre;overflow-x:auto;line-height:normal;font-family:Menlo,'DejaVu Sans Mono',consolas,'Courier New',monospace\">Testing Accuracy: 80.31%\n",
       "</pre>\n"
      ],
      "text/plain": [
       "Testing Accuracy: 80.31%\n"
      ]
     },
     "metadata": {},
     "output_type": "display_data"
    },
    {
     "data": {
      "text/html": [
       "<pre style=\"white-space:pre;overflow-x:auto;line-height:normal;font-family:Menlo,'DejaVu Sans Mono',consolas,'Courier New',monospace\">Precision: 74.57%\n",
       "</pre>\n"
      ],
      "text/plain": [
       "Precision: 74.57%\n"
      ]
     },
     "metadata": {},
     "output_type": "display_data"
    },
    {
     "data": {
      "text/html": [
       "<pre style=\"white-space:pre;overflow-x:auto;line-height:normal;font-family:Menlo,'DejaVu Sans Mono',consolas,'Courier New',monospace\">Recall: 80.60%\n",
       "</pre>\n"
      ],
      "text/plain": [
       "Recall: 80.60%\n"
      ]
     },
     "metadata": {},
     "output_type": "display_data"
    },
    {
     "data": {
      "text/html": [
       "<pre style=\"white-space:pre;overflow-x:auto;line-height:normal;font-family:Menlo,'DejaVu Sans Mono',consolas,'Courier New',monospace\">\n",
       "\n",
       "</pre>\n"
      ],
      "text/plain": [
       "\n",
       "\n"
      ]
     },
     "metadata": {},
     "output_type": "display_data"
    },
    {
     "data": {
      "text/html": [
       "<pre style=\"white-space:pre;overflow-x:auto;line-height:normal;font-family:Menlo,'DejaVu Sans Mono',consolas,'Courier New',monospace\">\n",
       "</pre>\n"
      ],
      "text/plain": [
       "\n"
      ]
     },
     "metadata": {},
     "output_type": "display_data"
    },
    {
     "data": {
      "text/html": [
       "<pre style=\"white-space:pre;overflow-x:auto;line-height:normal;font-family:Menlo,'DejaVu Sans Mono',consolas,'Courier New',monospace\">client <span style=\"font-weight: bold\">[</span><span style=\"color: #008080; text-decoration-color: #008080; font-weight: bold\">3</span><span style=\"font-weight: bold\">]</span>  <span style=\"color: #800000; text-decoration-color: #800000\">loss: </span><span style=\"color: #800000; text-decoration-color: #800000; font-weight: bold\">0.4313</span><span style=\"color: #800000; text-decoration-color: #800000\">    </span><span style=\"color: #800080; text-decoration-color: #800080\">accuracy: </span><span style=\"color: #800080; text-decoration-color: #800080; font-weight: bold\">0.80</span><span style=\"color: #800080; text-decoration-color: #800080\">%</span>                                                                        \n",
       "</pre>\n"
      ],
      "text/plain": [
       "client \u001b[1m[\u001b[0m\u001b[1;36m3\u001b[0m\u001b[1m]\u001b[0m  \u001b[31mloss: \u001b[0m\u001b[1;31m0.4313\u001b[0m\u001b[31m    \u001b[0m\u001b[35maccuracy: \u001b[0m\u001b[1;35m0.80\u001b[0m\u001b[35m%\u001b[0m                                                                        \n"
      ]
     },
     "metadata": {},
     "output_type": "display_data"
    },
    {
     "data": {
      "text/html": [
       "<pre style=\"white-space:pre;overflow-x:auto;line-height:normal;font-family:Menlo,'DejaVu Sans Mono',consolas,'Courier New',monospace\">self.client_id::  4\n",
       "</pre>\n"
      ],
      "text/plain": [
       "self.client_id::  4\n"
      ]
     },
     "metadata": {},
     "output_type": "display_data"
    },
    {
     "data": {
      "text/html": [
       "<pre style=\"white-space:pre;overflow-x:auto;line-height:normal;font-family:Menlo,'DejaVu Sans Mono',consolas,'Courier New',monospace\">self.client_id :: len(self.trainset) 4 :: 53\n",
       "</pre>\n"
      ],
      "text/plain": [
       "self.client_id :: len(self.trainset) 4 :: 53\n"
      ]
     },
     "metadata": {},
     "output_type": "display_data"
    },
    {
     "data": {
      "text/html": [
       "<pre style=\"white-space:pre;overflow-x:auto;line-height:normal;font-family:Menlo,'DejaVu Sans Mono',consolas,'Courier New',monospace\">Testing Accuracy: 76.11%\n",
       "</pre>\n"
      ],
      "text/plain": [
       "Testing Accuracy: 76.11%\n"
      ]
     },
     "metadata": {},
     "output_type": "display_data"
    },
    {
     "data": {
      "text/html": [
       "<pre style=\"white-space:pre;overflow-x:auto;line-height:normal;font-family:Menlo,'DejaVu Sans Mono',consolas,'Courier New',monospace\">Precision: 65.36%\n",
       "</pre>\n"
      ],
      "text/plain": [
       "Precision: 65.36%\n"
      ]
     },
     "metadata": {},
     "output_type": "display_data"
    },
    {
     "data": {
      "text/html": [
       "<pre style=\"white-space:pre;overflow-x:auto;line-height:normal;font-family:Menlo,'DejaVu Sans Mono',consolas,'Courier New',monospace\">Recall: 77.83%\n",
       "</pre>\n"
      ],
      "text/plain": [
       "Recall: 77.83%\n"
      ]
     },
     "metadata": {},
     "output_type": "display_data"
    },
    {
     "data": {
      "text/html": [
       "<pre style=\"white-space:pre;overflow-x:auto;line-height:normal;font-family:Menlo,'DejaVu Sans Mono',consolas,'Courier New',monospace\">\n",
       "\n",
       "</pre>\n"
      ],
      "text/plain": [
       "\n",
       "\n"
      ]
     },
     "metadata": {},
     "output_type": "display_data"
    },
    {
     "data": {
      "text/html": [
       "<pre style=\"white-space:pre;overflow-x:auto;line-height:normal;font-family:Menlo,'DejaVu Sans Mono',consolas,'Courier New',monospace\">\n",
       "</pre>\n"
      ],
      "text/plain": [
       "\n"
      ]
     },
     "metadata": {},
     "output_type": "display_data"
    },
    {
     "data": {
      "text/html": [
       "<pre style=\"white-space:pre;overflow-x:auto;line-height:normal;font-family:Menlo,'DejaVu Sans Mono',consolas,'Courier New',monospace\">client <span style=\"font-weight: bold\">[</span><span style=\"color: #008080; text-decoration-color: #008080; font-weight: bold\">4</span><span style=\"font-weight: bold\">]</span>  <span style=\"color: #800000; text-decoration-color: #800000\">loss: </span><span style=\"color: #800000; text-decoration-color: #800000; font-weight: bold\">0.4576</span><span style=\"color: #800000; text-decoration-color: #800000\">    </span><span style=\"color: #800080; text-decoration-color: #800080\">accuracy: </span><span style=\"color: #800080; text-decoration-color: #800080; font-weight: bold\">0.76</span><span style=\"color: #800080; text-decoration-color: #800080\">%</span>                                                                        \n",
       "</pre>\n"
      ],
      "text/plain": [
       "client \u001b[1m[\u001b[0m\u001b[1;36m4\u001b[0m\u001b[1m]\u001b[0m  \u001b[31mloss: \u001b[0m\u001b[1;31m0.4576\u001b[0m\u001b[31m    \u001b[0m\u001b[35maccuracy: \u001b[0m\u001b[1;35m0.76\u001b[0m\u001b[35m%\u001b[0m                                                                        \n"
      ]
     },
     "metadata": {},
     "output_type": "display_data"
    },
    {
     "data": {
      "text/html": [
       "<pre style=\"white-space:pre;overflow-x:auto;line-height:normal;font-family:Menlo,'DejaVu Sans Mono',consolas,'Courier New',monospace\">self.client_id::  5\n",
       "</pre>\n"
      ],
      "text/plain": [
       "self.client_id::  5\n"
      ]
     },
     "metadata": {},
     "output_type": "display_data"
    },
    {
     "data": {
      "text/html": [
       "<pre style=\"white-space:pre;overflow-x:auto;line-height:normal;font-family:Menlo,'DejaVu Sans Mono',consolas,'Courier New',monospace\">self.client_id :: len(self.trainset) 5 :: 54\n",
       "</pre>\n"
      ],
      "text/plain": [
       "self.client_id :: len(self.trainset) 5 :: 54\n"
      ]
     },
     "metadata": {},
     "output_type": "display_data"
    },
    {
     "data": {
      "text/html": [
       "<pre style=\"white-space:pre;overflow-x:auto;line-height:normal;font-family:Menlo,'DejaVu Sans Mono',consolas,'Courier New',monospace\">Testing Accuracy: 79.10%\n",
       "</pre>\n"
      ],
      "text/plain": [
       "Testing Accuracy: 79.10%\n"
      ]
     },
     "metadata": {},
     "output_type": "display_data"
    },
    {
     "data": {
      "text/html": [
       "<pre style=\"white-space:pre;overflow-x:auto;line-height:normal;font-family:Menlo,'DejaVu Sans Mono',consolas,'Courier New',monospace\">Precision: 72.97%\n",
       "</pre>\n"
      ],
      "text/plain": [
       "Precision: 72.97%\n"
      ]
     },
     "metadata": {},
     "output_type": "display_data"
    },
    {
     "data": {
      "text/html": [
       "<pre style=\"white-space:pre;overflow-x:auto;line-height:normal;font-family:Menlo,'DejaVu Sans Mono',consolas,'Courier New',monospace\">Recall: 80.19%\n",
       "</pre>\n"
      ],
      "text/plain": [
       "Recall: 80.19%\n"
      ]
     },
     "metadata": {},
     "output_type": "display_data"
    },
    {
     "data": {
      "text/html": [
       "<pre style=\"white-space:pre;overflow-x:auto;line-height:normal;font-family:Menlo,'DejaVu Sans Mono',consolas,'Courier New',monospace\">\n",
       "\n",
       "</pre>\n"
      ],
      "text/plain": [
       "\n",
       "\n"
      ]
     },
     "metadata": {},
     "output_type": "display_data"
    },
    {
     "data": {
      "text/html": [
       "<pre style=\"white-space:pre;overflow-x:auto;line-height:normal;font-family:Menlo,'DejaVu Sans Mono',consolas,'Courier New',monospace\">\n",
       "</pre>\n"
      ],
      "text/plain": [
       "\n"
      ]
     },
     "metadata": {},
     "output_type": "display_data"
    },
    {
     "data": {
      "text/html": [
       "<pre style=\"white-space:pre;overflow-x:auto;line-height:normal;font-family:Menlo,'DejaVu Sans Mono',consolas,'Courier New',monospace\">client <span style=\"font-weight: bold\">[</span><span style=\"color: #008080; text-decoration-color: #008080; font-weight: bold\">5</span><span style=\"font-weight: bold\">]</span>  <span style=\"color: #800000; text-decoration-color: #800000\">loss: </span><span style=\"color: #800000; text-decoration-color: #800000; font-weight: bold\">0.4440</span><span style=\"color: #800000; text-decoration-color: #800000\">    </span><span style=\"color: #800080; text-decoration-color: #800080\">accuracy: </span><span style=\"color: #800080; text-decoration-color: #800080; font-weight: bold\">0.79</span><span style=\"color: #800080; text-decoration-color: #800080\">%</span>                                                                        \n",
       "</pre>\n"
      ],
      "text/plain": [
       "client \u001b[1m[\u001b[0m\u001b[1;36m5\u001b[0m\u001b[1m]\u001b[0m  \u001b[31mloss: \u001b[0m\u001b[1;31m0.4440\u001b[0m\u001b[31m    \u001b[0m\u001b[35maccuracy: \u001b[0m\u001b[1;35m0.79\u001b[0m\u001b[35m%\u001b[0m                                                                        \n"
      ]
     },
     "metadata": {},
     "output_type": "display_data"
    },
    {
     "data": {
      "text/html": [
       "<pre style=\"white-space:pre;overflow-x:auto;line-height:normal;font-family:Menlo,'DejaVu Sans Mono',consolas,'Courier New',monospace\">self.client_id::  6\n",
       "</pre>\n"
      ],
      "text/plain": [
       "self.client_id::  6\n"
      ]
     },
     "metadata": {},
     "output_type": "display_data"
    },
    {
     "data": {
      "text/html": [
       "<pre style=\"white-space:pre;overflow-x:auto;line-height:normal;font-family:Menlo,'DejaVu Sans Mono',consolas,'Courier New',monospace\">self.client_id :: len(self.trainset) 6 :: 57\n",
       "</pre>\n"
      ],
      "text/plain": [
       "self.client_id :: len(self.trainset) 6 :: 57\n"
      ]
     },
     "metadata": {},
     "output_type": "display_data"
    },
    {
     "data": {
      "text/html": [
       "<pre style=\"white-space:pre;overflow-x:auto;line-height:normal;font-family:Menlo,'DejaVu Sans Mono',consolas,'Courier New',monospace\">Testing Accuracy: 80.96%\n",
       "</pre>\n"
      ],
      "text/plain": [
       "Testing Accuracy: 80.96%\n"
      ]
     },
     "metadata": {},
     "output_type": "display_data"
    },
    {
     "data": {
      "text/html": [
       "<pre style=\"white-space:pre;overflow-x:auto;line-height:normal;font-family:Menlo,'DejaVu Sans Mono',consolas,'Courier New',monospace\">Precision: 73.56%\n",
       "</pre>\n"
      ],
      "text/plain": [
       "Precision: 73.56%\n"
      ]
     },
     "metadata": {},
     "output_type": "display_data"
    },
    {
     "data": {
      "text/html": [
       "<pre style=\"white-space:pre;overflow-x:auto;line-height:normal;font-family:Menlo,'DejaVu Sans Mono',consolas,'Courier New',monospace\">Recall: 81.40%\n",
       "</pre>\n"
      ],
      "text/plain": [
       "Recall: 81.40%\n"
      ]
     },
     "metadata": {},
     "output_type": "display_data"
    },
    {
     "data": {
      "text/html": [
       "<pre style=\"white-space:pre;overflow-x:auto;line-height:normal;font-family:Menlo,'DejaVu Sans Mono',consolas,'Courier New',monospace\">\n",
       "\n",
       "</pre>\n"
      ],
      "text/plain": [
       "\n",
       "\n"
      ]
     },
     "metadata": {},
     "output_type": "display_data"
    },
    {
     "data": {
      "text/html": [
       "<pre style=\"white-space:pre;overflow-x:auto;line-height:normal;font-family:Menlo,'DejaVu Sans Mono',consolas,'Courier New',monospace\">\n",
       "</pre>\n"
      ],
      "text/plain": [
       "\n"
      ]
     },
     "metadata": {},
     "output_type": "display_data"
    },
    {
     "data": {
      "text/html": [
       "<pre style=\"white-space:pre;overflow-x:auto;line-height:normal;font-family:Menlo,'DejaVu Sans Mono',consolas,'Courier New',monospace\">client <span style=\"font-weight: bold\">[</span><span style=\"color: #008080; text-decoration-color: #008080; font-weight: bold\">6</span><span style=\"font-weight: bold\">]</span>  <span style=\"color: #800000; text-decoration-color: #800000\">loss: </span><span style=\"color: #800000; text-decoration-color: #800000; font-weight: bold\">0.4072</span><span style=\"color: #800000; text-decoration-color: #800000\">    </span><span style=\"color: #800080; text-decoration-color: #800080\">accuracy: </span><span style=\"color: #800080; text-decoration-color: #800080; font-weight: bold\">0.81</span><span style=\"color: #800080; text-decoration-color: #800080\">%</span>                                                                        \n",
       "</pre>\n"
      ],
      "text/plain": [
       "client \u001b[1m[\u001b[0m\u001b[1;36m6\u001b[0m\u001b[1m]\u001b[0m  \u001b[31mloss: \u001b[0m\u001b[1;31m0.4072\u001b[0m\u001b[31m    \u001b[0m\u001b[35maccuracy: \u001b[0m\u001b[1;35m0.81\u001b[0m\u001b[35m%\u001b[0m                                                                        \n"
      ]
     },
     "metadata": {},
     "output_type": "display_data"
    },
    {
     "data": {
      "text/html": [
       "<pre style=\"white-space:pre;overflow-x:auto;line-height:normal;font-family:Menlo,'DejaVu Sans Mono',consolas,'Courier New',monospace\">self.client_id::  7\n",
       "</pre>\n"
      ],
      "text/plain": [
       "self.client_id::  7\n"
      ]
     },
     "metadata": {},
     "output_type": "display_data"
    },
    {
     "data": {
      "text/html": [
       "<pre style=\"white-space:pre;overflow-x:auto;line-height:normal;font-family:Menlo,'DejaVu Sans Mono',consolas,'Courier New',monospace\">self.client_id :: len(self.trainset) 7 :: 57\n",
       "</pre>\n"
      ],
      "text/plain": [
       "self.client_id :: len(self.trainset) 7 :: 57\n"
      ]
     },
     "metadata": {},
     "output_type": "display_data"
    },
    {
     "data": {
      "text/html": [
       "<pre style=\"white-space:pre;overflow-x:auto;line-height:normal;font-family:Menlo,'DejaVu Sans Mono',consolas,'Courier New',monospace\">Testing Accuracy: 79.60%\n",
       "</pre>\n"
      ],
      "text/plain": [
       "Testing Accuracy: 79.60%\n"
      ]
     },
     "metadata": {},
     "output_type": "display_data"
    },
    {
     "data": {
      "text/html": [
       "<pre style=\"white-space:pre;overflow-x:auto;line-height:normal;font-family:Menlo,'DejaVu Sans Mono',consolas,'Courier New',monospace\">Precision: 72.76%\n",
       "</pre>\n"
      ],
      "text/plain": [
       "Precision: 72.76%\n"
      ]
     },
     "metadata": {},
     "output_type": "display_data"
    },
    {
     "data": {
      "text/html": [
       "<pre style=\"white-space:pre;overflow-x:auto;line-height:normal;font-family:Menlo,'DejaVu Sans Mono',consolas,'Courier New',monospace\">Recall: 79.77%\n",
       "</pre>\n"
      ],
      "text/plain": [
       "Recall: 79.77%\n"
      ]
     },
     "metadata": {},
     "output_type": "display_data"
    },
    {
     "data": {
      "text/html": [
       "<pre style=\"white-space:pre;overflow-x:auto;line-height:normal;font-family:Menlo,'DejaVu Sans Mono',consolas,'Courier New',monospace\">\n",
       "\n",
       "</pre>\n"
      ],
      "text/plain": [
       "\n",
       "\n"
      ]
     },
     "metadata": {},
     "output_type": "display_data"
    },
    {
     "data": {
      "text/html": [
       "<pre style=\"white-space:pre;overflow-x:auto;line-height:normal;font-family:Menlo,'DejaVu Sans Mono',consolas,'Courier New',monospace\">\n",
       "</pre>\n"
      ],
      "text/plain": [
       "\n"
      ]
     },
     "metadata": {},
     "output_type": "display_data"
    },
    {
     "data": {
      "text/html": [
       "<pre style=\"white-space:pre;overflow-x:auto;line-height:normal;font-family:Menlo,'DejaVu Sans Mono',consolas,'Courier New',monospace\">client <span style=\"font-weight: bold\">[</span><span style=\"color: #008080; text-decoration-color: #008080; font-weight: bold\">7</span><span style=\"font-weight: bold\">]</span>  <span style=\"color: #800000; text-decoration-color: #800000\">loss: </span><span style=\"color: #800000; text-decoration-color: #800000; font-weight: bold\">0.4183</span><span style=\"color: #800000; text-decoration-color: #800000\">    </span><span style=\"color: #800080; text-decoration-color: #800080\">accuracy: </span><span style=\"color: #800080; text-decoration-color: #800080; font-weight: bold\">0.80</span><span style=\"color: #800080; text-decoration-color: #800080\">%</span>                                                                        \n",
       "</pre>\n"
      ],
      "text/plain": [
       "client \u001b[1m[\u001b[0m\u001b[1;36m7\u001b[0m\u001b[1m]\u001b[0m  \u001b[31mloss: \u001b[0m\u001b[1;31m0.4183\u001b[0m\u001b[31m    \u001b[0m\u001b[35maccuracy: \u001b[0m\u001b[1;35m0.80\u001b[0m\u001b[35m%\u001b[0m                                                                        \n"
      ]
     },
     "metadata": {},
     "output_type": "display_data"
    },
    {
     "data": {
      "text/html": [
       "<pre style=\"white-space:pre;overflow-x:auto;line-height:normal;font-family:Menlo,'DejaVu Sans Mono',consolas,'Courier New',monospace\">self.client_id::  8\n",
       "</pre>\n"
      ],
      "text/plain": [
       "self.client_id::  8\n"
      ]
     },
     "metadata": {},
     "output_type": "display_data"
    },
    {
     "data": {
      "text/html": [
       "<pre style=\"white-space:pre;overflow-x:auto;line-height:normal;font-family:Menlo,'DejaVu Sans Mono',consolas,'Courier New',monospace\">self.client_id :: len(self.trainset) 8 :: 59\n",
       "</pre>\n"
      ],
      "text/plain": [
       "self.client_id :: len(self.trainset) 8 :: 59\n"
      ]
     },
     "metadata": {},
     "output_type": "display_data"
    },
    {
     "data": {
      "text/html": [
       "<pre style=\"white-space:pre;overflow-x:auto;line-height:normal;font-family:Menlo,'DejaVu Sans Mono',consolas,'Courier New',monospace\">Testing Accuracy: 79.91%\n",
       "</pre>\n"
      ],
      "text/plain": [
       "Testing Accuracy: 79.91%\n"
      ]
     },
     "metadata": {},
     "output_type": "display_data"
    },
    {
     "data": {
      "text/html": [
       "<pre style=\"white-space:pre;overflow-x:auto;line-height:normal;font-family:Menlo,'DejaVu Sans Mono',consolas,'Courier New',monospace\">Precision: 72.09%\n",
       "</pre>\n"
      ],
      "text/plain": [
       "Precision: 72.09%\n"
      ]
     },
     "metadata": {},
     "output_type": "display_data"
    },
    {
     "data": {
      "text/html": [
       "<pre style=\"white-space:pre;overflow-x:auto;line-height:normal;font-family:Menlo,'DejaVu Sans Mono',consolas,'Courier New',monospace\">Recall: 81.90%\n",
       "</pre>\n"
      ],
      "text/plain": [
       "Recall: 81.90%\n"
      ]
     },
     "metadata": {},
     "output_type": "display_data"
    },
    {
     "data": {
      "text/html": [
       "<pre style=\"white-space:pre;overflow-x:auto;line-height:normal;font-family:Menlo,'DejaVu Sans Mono',consolas,'Courier New',monospace\">\n",
       "\n",
       "</pre>\n"
      ],
      "text/plain": [
       "\n",
       "\n"
      ]
     },
     "metadata": {},
     "output_type": "display_data"
    },
    {
     "data": {
      "text/html": [
       "<pre style=\"white-space:pre;overflow-x:auto;line-height:normal;font-family:Menlo,'DejaVu Sans Mono',consolas,'Courier New',monospace\">\n",
       "</pre>\n"
      ],
      "text/plain": [
       "\n"
      ]
     },
     "metadata": {},
     "output_type": "display_data"
    },
    {
     "data": {
      "text/html": [
       "<pre style=\"white-space:pre;overflow-x:auto;line-height:normal;font-family:Menlo,'DejaVu Sans Mono',consolas,'Courier New',monospace\">client <span style=\"font-weight: bold\">[</span><span style=\"color: #008080; text-decoration-color: #008080; font-weight: bold\">8</span><span style=\"font-weight: bold\">]</span>  <span style=\"color: #800000; text-decoration-color: #800000\">loss: </span><span style=\"color: #800000; text-decoration-color: #800000; font-weight: bold\">0.4310</span><span style=\"color: #800000; text-decoration-color: #800000\">    </span><span style=\"color: #800080; text-decoration-color: #800080\">accuracy: </span><span style=\"color: #800080; text-decoration-color: #800080; font-weight: bold\">0.80</span><span style=\"color: #800080; text-decoration-color: #800080\">%</span>                                                                        \n",
       "</pre>\n"
      ],
      "text/plain": [
       "client \u001b[1m[\u001b[0m\u001b[1;36m8\u001b[0m\u001b[1m]\u001b[0m  \u001b[31mloss: \u001b[0m\u001b[1;31m0.4310\u001b[0m\u001b[31m    \u001b[0m\u001b[35maccuracy: \u001b[0m\u001b[1;35m0.80\u001b[0m\u001b[35m%\u001b[0m                                                                        \n"
      ]
     },
     "metadata": {},
     "output_type": "display_data"
    },
    {
     "data": {
      "text/html": [
       "<pre style=\"white-space:pre;overflow-x:auto;line-height:normal;font-family:Menlo,'DejaVu Sans Mono',consolas,'Courier New',monospace\">self.client_id::  9\n",
       "</pre>\n"
      ],
      "text/plain": [
       "self.client_id::  9\n"
      ]
     },
     "metadata": {},
     "output_type": "display_data"
    },
    {
     "data": {
      "text/html": [
       "<pre style=\"white-space:pre;overflow-x:auto;line-height:normal;font-family:Menlo,'DejaVu Sans Mono',consolas,'Courier New',monospace\">self.client_id :: len(self.trainset) 9 :: 86\n",
       "</pre>\n"
      ],
      "text/plain": [
       "self.client_id :: len(self.trainset) 9 :: 86\n"
      ]
     },
     "metadata": {},
     "output_type": "display_data"
    },
    {
     "data": {
      "text/html": [
       "<pre style=\"white-space:pre;overflow-x:auto;line-height:normal;font-family:Menlo,'DejaVu Sans Mono',consolas,'Courier New',monospace\">Testing Accuracy: 78.30%\n",
       "</pre>\n"
      ],
      "text/plain": [
       "Testing Accuracy: 78.30%\n"
      ]
     },
     "metadata": {},
     "output_type": "display_data"
    },
    {
     "data": {
      "text/html": [
       "<pre style=\"white-space:pre;overflow-x:auto;line-height:normal;font-family:Menlo,'DejaVu Sans Mono',consolas,'Courier New',monospace\">Precision: 70.36%\n",
       "</pre>\n"
      ],
      "text/plain": [
       "Precision: 70.36%\n"
      ]
     },
     "metadata": {},
     "output_type": "display_data"
    },
    {
     "data": {
      "text/html": [
       "<pre style=\"white-space:pre;overflow-x:auto;line-height:normal;font-family:Menlo,'DejaVu Sans Mono',consolas,'Courier New',monospace\">Recall: 78.71%\n",
       "</pre>\n"
      ],
      "text/plain": [
       "Recall: 78.71%\n"
      ]
     },
     "metadata": {},
     "output_type": "display_data"
    },
    {
     "data": {
      "text/html": [
       "<pre style=\"white-space:pre;overflow-x:auto;line-height:normal;font-family:Menlo,'DejaVu Sans Mono',consolas,'Courier New',monospace\">\n",
       "\n",
       "</pre>\n"
      ],
      "text/plain": [
       "\n",
       "\n"
      ]
     },
     "metadata": {},
     "output_type": "display_data"
    },
    {
     "data": {
      "text/html": [
       "<pre style=\"white-space:pre;overflow-x:auto;line-height:normal;font-family:Menlo,'DejaVu Sans Mono',consolas,'Courier New',monospace\">\n",
       "</pre>\n"
      ],
      "text/plain": [
       "\n"
      ]
     },
     "metadata": {},
     "output_type": "display_data"
    },
    {
     "data": {
      "text/html": [
       "<pre style=\"white-space:pre;overflow-x:auto;line-height:normal;font-family:Menlo,'DejaVu Sans Mono',consolas,'Courier New',monospace\">client <span style=\"font-weight: bold\">[</span><span style=\"color: #008080; text-decoration-color: #008080; font-weight: bold\">9</span><span style=\"font-weight: bold\">]</span>  <span style=\"color: #800000; text-decoration-color: #800000\">loss: </span><span style=\"color: #800000; text-decoration-color: #800000; font-weight: bold\">0.4476</span><span style=\"color: #800000; text-decoration-color: #800000\">    </span><span style=\"color: #800080; text-decoration-color: #800080\">accuracy: </span><span style=\"color: #800080; text-decoration-color: #800080; font-weight: bold\">0.78</span><span style=\"color: #800080; text-decoration-color: #800080\">%</span>                                                                        \n",
       "</pre>\n"
      ],
      "text/plain": [
       "client \u001b[1m[\u001b[0m\u001b[1;36m9\u001b[0m\u001b[1m]\u001b[0m  \u001b[31mloss: \u001b[0m\u001b[1;31m0.4476\u001b[0m\u001b[31m    \u001b[0m\u001b[35maccuracy: \u001b[0m\u001b[1;35m0.78\u001b[0m\u001b[35m%\u001b[0m                                                                        \n"
      ]
     },
     "metadata": {},
     "output_type": "display_data"
    },
    {
     "data": {
      "text/html": [
       "<pre style=\"white-space:pre;overflow-x:auto;line-height:normal;font-family:Menlo,'DejaVu Sans Mono',consolas,'Courier New',monospace\"></pre>\n"
      ],
      "text/plain": []
     },
     "metadata": {},
     "output_type": "display_data"
    },
    {
     "data": {
      "text/html": [
       "<pre style=\"white-space:pre;overflow-x:auto;line-height:normal;font-family:Menlo,'DejaVu Sans Mono',consolas,'Courier New',monospace\">\n",
       "</pre>\n"
      ],
      "text/plain": [
       "\n"
      ]
     },
     "metadata": {},
     "output_type": "display_data"
    },
    {
     "data": {
      "text/html": [
       "<pre style=\"white-space:pre;overflow-x:auto;line-height:normal;font-family:Menlo,'DejaVu Sans Mono',consolas,'Courier New',monospace\"><span style=\"color: #008000; text-decoration-color: #008000; font-weight: bold\">==================== RESULTS ====================                                                                  </span>\n",
       "</pre>\n"
      ],
      "text/plain": [
       "\u001b[1;32m==================== RESULTS ====================                                                                  \u001b[0m\n"
      ]
     },
     "metadata": {},
     "output_type": "display_data"
    },
    {
     "data": {
      "text/html": [
       "<pre style=\"white-space:pre;overflow-x:auto;line-height:normal;font-family:Menlo,'DejaVu Sans Mono',consolas,'Courier New',monospace\">loss: <span style=\"color: #008080; text-decoration-color: #008080; font-weight: bold\">0.4318</span>    accuracy: <span style=\"color: #008080; text-decoration-color: #008080; font-weight: bold\">0.79</span>%                                                                                    \n",
       "</pre>\n"
      ],
      "text/plain": [
       "loss: \u001b[1;36m0.4318\u001b[0m    accuracy: \u001b[1;36m0.79\u001b[0m%                                                                                    \n"
      ]
     },
     "metadata": {},
     "output_type": "display_data"
    }
   ],
   "source": [
    "server.run()"
   ]
  },
  {
   "cell_type": "code",
   "execution_count": null,
   "id": "3e13047e",
   "metadata": {},
   "outputs": [],
   "source": []
  },
  {
   "cell_type": "code",
   "execution_count": null,
   "id": "4b75712a",
   "metadata": {},
   "outputs": [],
   "source": []
  },
  {
   "cell_type": "code",
   "execution_count": null,
   "id": "66aa07ab",
   "metadata": {},
   "outputs": [],
   "source": []
  },
  {
   "cell_type": "code",
   "execution_count": null,
   "id": "aae55bed",
   "metadata": {},
   "outputs": [],
   "source": []
  },
  {
   "cell_type": "code",
   "execution_count": null,
   "id": "a1dbadf5",
   "metadata": {
    "scrolled": true
   },
   "outputs": [],
   "source": []
  },
  {
   "cell_type": "code",
   "execution_count": null,
   "id": "5de392c9",
   "metadata": {},
   "outputs": [],
   "source": []
  },
  {
   "cell_type": "code",
   "execution_count": null,
   "id": "35a1843d",
   "metadata": {},
   "outputs": [],
   "source": []
  },
  {
   "cell_type": "code",
   "execution_count": 86,
   "id": "28cd85c4",
   "metadata": {},
   "outputs": [],
   "source": []
  },
  {
   "cell_type": "code",
   "execution_count": null,
   "id": "e67613fd",
   "metadata": {},
   "outputs": [],
   "source": []
  },
  {
   "cell_type": "code",
   "execution_count": null,
   "id": "056691d5",
   "metadata": {},
   "outputs": [],
   "source": []
  },
  {
   "cell_type": "code",
   "execution_count": null,
   "id": "226dda2d",
   "metadata": {},
   "outputs": [],
   "source": []
  },
  {
   "cell_type": "code",
   "execution_count": null,
   "id": "281dab8c",
   "metadata": {},
   "outputs": [],
   "source": []
  },
  {
   "cell_type": "code",
   "execution_count": null,
   "id": "9e08b4ce",
   "metadata": {},
   "outputs": [],
   "source": []
  },
  {
   "cell_type": "code",
   "execution_count": null,
   "id": "fedab29b",
   "metadata": {},
   "outputs": [],
   "source": []
  },
  {
   "cell_type": "code",
   "execution_count": 1,
   "id": "85ff5e55",
   "metadata": {},
   "outputs": [
    {
     "ename": "NameError",
     "evalue": "name 'model' is not defined",
     "output_type": "error",
     "traceback": [
      "\u001b[1;31m---------------------------------------------------------------------------\u001b[0m",
      "\u001b[1;31mNameError\u001b[0m                                 Traceback (most recent call last)",
      "Cell \u001b[1;32mIn[1], line 1\u001b[0m\n\u001b[1;32m----> 1\u001b[0m \u001b[43mmodel\u001b[49m\u001b[38;5;241m.\u001b[39meval()  \u001b[38;5;66;03m# Set the model to evaluation mode\u001b[39;00m\n\u001b[0;32m      3\u001b[0m \u001b[38;5;28;01mwith\u001b[39;00m torch\u001b[38;5;241m.\u001b[39mno_grad():\n\u001b[0;32m      4\u001b[0m     correct \u001b[38;5;241m=\u001b[39m \u001b[38;5;241m0\u001b[39m\n",
      "\u001b[1;31mNameError\u001b[0m: name 'model' is not defined"
     ]
    }
   ],
   "source": [
    "model.eval()  # Set the model to evaluation mode\n",
    "\n",
    "with torch.no_grad():\n",
    "    correct = 0\n",
    "    total = 0\n",
    "    loss=0\n",
    "    for inputs, targets in test_loader:\n",
    "        inputs, targets = inputs.to(device), targets.to(device)\n",
    "        outputs = model(inputs)\n",
    "\n",
    "        loss += criterion(outputs, targets)\n",
    "        \n",
    "        predicted = outputs > 0.5\n",
    "                \n",
    "        total += targets.size(0)\n",
    "        correct += (predicted == targets).sum().item()\n",
    "        \n",
    "    print(\"Correct: \",correct,\"Total: \", total)\n",
    "    \n",
    "    average_loss = loss / len(test_loader)\n",
    "    accuracy = correct / total\n",
    "    \n",
    "    print(f\"Testing Accuracy: {accuracy:.2%}\")\n",
    "    print(f\"Testing Loss: \" ,average_loss)"
   ]
  },
  {
   "cell_type": "code",
   "execution_count": null,
   "id": "4bdaa790",
   "metadata": {},
   "outputs": [],
   "source": []
  },
  {
   "cell_type": "code",
   "execution_count": null,
   "id": "4f440fb0",
   "metadata": {},
   "outputs": [],
   "source": []
  },
  {
   "cell_type": "code",
   "execution_count": null,
   "id": "e8802ffa",
   "metadata": {},
   "outputs": [],
   "source": []
  },
  {
   "cell_type": "code",
   "execution_count": null,
   "id": "98c17a52",
   "metadata": {},
   "outputs": [],
   "source": []
  },
  {
   "cell_type": "code",
   "execution_count": 25,
   "id": "b92a9fb9",
   "metadata": {
    "scrolled": false
   },
   "outputs": [
    {
     "data": {
      "text/plain": [
       "Parameter containing:\n",
       "tensor([[ 0.0273,  0.0562, -0.0342,  ...,  0.0298, -0.0126, -0.0052],\n",
       "        [ 0.0328, -0.0955, -0.1000,  ..., -0.0489,  0.0381,  0.0211],\n",
       "        [-0.0320,  0.0745, -0.0512,  ..., -0.0103,  0.0453, -0.0010],\n",
       "        ...,\n",
       "        [ 0.0384, -0.0118,  0.0080,  ..., -0.0856, -0.0647, -0.0319],\n",
       "        [ 0.0429,  0.0723,  0.0675,  ..., -0.0407, -0.0915,  0.0258],\n",
       "        [-0.0868, -0.0254, -0.0313,  ..., -0.0187, -0.0333,  0.0142]],\n",
       "       requires_grad=True)"
      ]
     },
     "execution_count": 25,
     "metadata": {},
     "output_type": "execute_result"
    }
   ],
   "source": [
    "with open(\"D:/Download/pythonProject/HiWi/pFedLA_Folktable/src/pkl_files/hn/0.pkl\", 'rb') as f:\n",
    "    qw = pickle.load(f)\n",
    "    \n",
    "qw[\"mlp\"][0].weight"
   ]
  },
  {
   "cell_type": "code",
   "execution_count": 9,
   "id": "d4fceaf9",
   "metadata": {},
   "outputs": [
    {
     "data": {
      "text/plain": [
       "Parameter containing:\n",
       "tensor([[-0.0937, -0.0340, -0.0789,  ...,  0.0953, -0.0907,  0.0428],\n",
       "        [-0.0973, -0.0327,  0.0957,  ..., -0.0736,  0.0715,  0.0400],\n",
       "        [ 0.0272, -0.0741, -0.0024,  ...,  0.0134,  0.0945, -0.0741],\n",
       "        ...,\n",
       "        [-0.0915,  0.0650, -0.0139,  ..., -0.0919,  0.0284, -0.0107],\n",
       "        [ 0.0486, -0.0921, -0.0964,  ...,  0.0980, -0.0358,  0.0721],\n",
       "        [ 0.0323, -0.0272,  0.0640,  ..., -0.0886,  0.0630,  0.0817]],\n",
       "       requires_grad=True)"
      ]
     },
     "execution_count": 9,
     "metadata": {},
     "output_type": "execute_result"
    }
   ],
   "source": [
    "# D:\\Download\\pythonProject\\HiWi\\pFedLA_Folktable\\temp\\hn\n",
    "with open(\"D:/Download/pythonProject/HiWi/pFedLA-master_original/temp/hn/8.pkl\", 'rb') as f:\n",
    "    a1 = pickle.load(f)\n",
    "    \n",
    "a1[\"mlp\"][0].weight"
   ]
  },
  {
   "cell_type": "code",
   "execution_count": 32,
   "id": "f70f73ad",
   "metadata": {},
   "outputs": [
    {
     "data": {
      "text/plain": [
       "tensor([-0.0937, -0.0340, -0.0789,  0.0736, -0.0949,  0.0642,  0.0790,  0.0037,\n",
       "        -0.0856,  0.0770, -0.0534, -0.0941,  0.0115,  0.0501, -0.0512,  0.0796,\n",
       "        -0.0407,  0.0587, -0.0320, -0.0691,  0.0732,  0.0862, -0.0808,  0.0117,\n",
       "        -0.0041, -0.0942,  0.0254, -0.0815, -0.0757,  0.0142, -0.0595, -0.0525,\n",
       "        -0.0617, -0.0892, -0.0879, -0.0020, -0.0862,  0.0740, -0.0417,  0.0953,\n",
       "         0.0618,  0.0115, -0.0543,  0.0179, -0.0213, -0.0651,  0.0661,  0.0287,\n",
       "        -0.0900, -0.0155,  0.0535, -0.0633, -0.0122,  0.0616,  0.0409, -0.0100,\n",
       "        -0.0223, -0.0163,  0.0374,  0.0285, -0.0653,  0.0042, -0.0179, -0.0476,\n",
       "         0.0977,  0.0163,  0.0297, -0.0257, -0.0303, -0.0456, -0.0347, -0.0898,\n",
       "         0.0068, -0.0229, -0.0901, -0.0588,  0.0831, -0.0576, -0.0739,  0.0262,\n",
       "         0.0600,  0.0905, -0.0072, -0.0443,  0.0981,  0.0350, -0.0329, -0.0846,\n",
       "        -0.0869,  0.0158,  0.0663, -0.0791,  0.0413, -0.0424, -0.0297, -0.0697,\n",
       "        -0.0594,  0.0953, -0.0907,  0.0428], grad_fn=<SelectBackward0>)"
      ]
     },
     "execution_count": 32,
     "metadata": {},
     "output_type": "execute_result"
    }
   ],
   "source": [
    "# D:\\Download\\pythonProject\\HiWi\\pFedLA_Folktable\\temp\\hn\n",
    "with open(\"D:/Download/pythonProject/HiWi/pFedLA-master_original/temp/hn/8.pkl\", 'rb') as f:\n",
    "    a2 = pickle.load(f)\n",
    "    \n",
    "a2[\"mlp\"][0].weight[0]"
   ]
  },
  {
   "cell_type": "code",
   "execution_count": 33,
   "id": "831d6efd",
   "metadata": {},
   "outputs": [
    {
     "data": {
      "text/plain": [
       "True"
      ]
     },
     "execution_count": 33,
     "metadata": {},
     "output_type": "execute_result"
    }
   ],
   "source": [
    "torch.equal(a1[\"mlp\"][0].weight[0],a2[\"mlp\"][0].weight[0])"
   ]
  },
  {
   "cell_type": "code",
   "execution_count": null,
   "id": "d45cf4b7",
   "metadata": {},
   "outputs": [],
   "source": []
  },
  {
   "cell_type": "code",
   "execution_count": null,
   "id": "b6b7239e",
   "metadata": {},
   "outputs": [],
   "source": []
  },
  {
   "cell_type": "code",
   "execution_count": 2,
   "id": "cc3cb02e",
   "metadata": {},
   "outputs": [
    {
     "name": "stdout",
     "output_type": "stream",
     "text": [
      "tensor([[ 6, 15, 24],\n",
      "        [33, 42, 51],\n",
      "        [60, 69, 78]])\n"
     ]
    }
   ],
   "source": [
    "import torch\n",
    "\n",
    "# Create a 3x3x3 tensor\n",
    "tensor = torch.tensor([\n",
    "    [[1, 2, 3],\n",
    "     [4, 5, 6],\n",
    "     [7, 8, 9]],\n",
    "    \n",
    "    [[10, 11, 12],\n",
    "     [13, 14, 15],\n",
    "     [16, 17, 18]],\n",
    "    \n",
    "    [[19, 20, 21],\n",
    "     [22, 23, 24],\n",
    "     [25, 26, 27]]\n",
    "])\n",
    "\n",
    "# Calculate sum along the last dimension (dim=-1)\n",
    "sum_along_last_dim = torch.sum(tensor, dim=-1)\n",
    "\n",
    "print(sum_along_last_dim)\n"
   ]
  },
  {
   "cell_type": "code",
   "execution_count": null,
   "id": "193901aa",
   "metadata": {},
   "outputs": [],
   "source": []
  }
 ],
 "metadata": {
  "kernelspec": {
   "display_name": "Python 3 (ipykernel)",
   "language": "python",
   "name": "python3"
  },
  "language_info": {
   "codemirror_mode": {
    "name": "ipython",
    "version": 3
   },
   "file_extension": ".py",
   "mimetype": "text/x-python",
   "name": "python",
   "nbconvert_exporter": "python",
   "pygments_lexer": "ipython3",
   "version": "3.9.10"
  }
 },
 "nbformat": 4,
 "nbformat_minor": 5
}
